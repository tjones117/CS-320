{
 "cells": [
  {
   "cell_type": "code",
   "execution_count": 5,
   "metadata": {},
   "outputs": [
    {
     "name": "stdout",
     "output_type": "stream",
     "text": [
      "GET http://35.193.179.251:5000/fruit?idx=0\n",
      "GET http://35.193.179.251:5000/fruit?idx=1\n",
      "Response Headers Dict: {'Retry-After': '1.9952397346496582', 'Content-Type': 'text/html; charset=utf-8', 'Content-Length': '9', 'Server': 'Werkzeug/1.0.0 Python/3.6.9', 'Date': 'Mon, 23 Mar 2020 16:00:09 GMT'}\n",
      "GET http://35.193.179.251:5000/fruit?idx=2\n",
      "Response Headers Dict: {'Retry-After': '1.9961698055267334', 'Content-Type': 'text/html; charset=utf-8', 'Content-Length': '9', 'Server': 'Werkzeug/1.0.0 Python/3.6.9', 'Date': 'Mon, 23 Mar 2020 16:00:11 GMT'}\n",
      "GET http://35.193.179.251:5000/fruit?idx=3\n",
      "Response Headers Dict: {'Retry-After': '1.995666742324829', 'Content-Type': 'text/html; charset=utf-8', 'Content-Length': '9', 'Server': 'Werkzeug/1.0.0 Python/3.6.9', 'Date': 'Mon, 23 Mar 2020 16:00:13 GMT'}\n",
      "GET http://35.193.179.251:5000/fruit?idx=4\n",
      "Response Headers Dict: {'Retry-After': '1.9955871105194092', 'Content-Type': 'text/html; charset=utf-8', 'Content-Length': '9', 'Server': 'Werkzeug/1.0.0 Python/3.6.9', 'Date': 'Mon, 23 Mar 2020 16:00:15 GMT'}\n",
      "GET http://35.193.179.251:5000/fruit?idx=5\n",
      "Response Headers Dict: {'Retry-After': '1.996062994003296', 'Content-Type': 'text/html; charset=utf-8', 'Content-Length': '9', 'Server': 'Werkzeug/1.0.0 Python/3.6.9', 'Date': 'Mon, 23 Mar 2020 16:00:17 GMT'}\n",
      "GET http://35.193.179.251:5000/fruit?idx=6\n",
      "Response Headers Dict: {'Retry-After': '1.996239185333252', 'Content-Type': 'text/html; charset=utf-8', 'Content-Length': '9', 'Server': 'Werkzeug/1.0.0 Python/3.6.9', 'Date': 'Mon, 23 Mar 2020 16:00:19 GMT'}\n"
     ]
    },
    {
     "data": {
      "text/plain": [
       "['apple', 'banana', 'kiwi', 'cantaloupe', 'berries', 'orange']"
      ]
     },
     "execution_count": 5,
     "metadata": {},
     "output_type": "execute_result"
    }
   ],
   "source": [
    "import requests, time\n",
    "\n",
    "my_ip = \"35.193.179.251\" # TODO: put your VM's IP addr here\n",
    "\n",
    "def nice_get(url):\n",
    "    print(\"GET\", url)\n",
    "    r = requests.get(url)\n",
    "    if r.status_code == 429:\n",
    "        # told to backoff...\n",
    "        # we'll wait however long requested, then try once more\n",
    "\n",
    "        print(\"Response Headers Dict:\", r.headers)\n",
    "\n",
    "        # TODO: pull \"Retry-After\" from headers,\n",
    "        # convert to float, and pass to sleep call:\n",
    "\n",
    "        time.sleep(2)\n",
    "        r = requests.get(url)\n",
    "    r.raise_for_status()\n",
    "    return r.text\n",
    "\n",
    "def fruit_url(idx):\n",
    "    return (\"http://\"+my_ip+\":5000\"+\n",
    "            \"/fruit?idx=\" + str(idx))\n",
    "\n",
    "def grab_fruits():\n",
    "    fruits = []\n",
    "    i = 0\n",
    "    while True:\n",
    "        url = fruit_url(i)\n",
    "        fruit = nice_get(url)\n",
    "        if fruit != \"\":\n",
    "            fruits.append(fruit)\n",
    "        else:\n",
    "            return fruits\n",
    "        i += 1\n",
    "        \n",
    "grab_fruits()"
   ]
  },
  {
   "cell_type": "code",
   "execution_count": null,
   "metadata": {},
   "outputs": [],
   "source": []
  }
 ],
 "metadata": {
  "kernelspec": {
   "display_name": "Python 3",
   "language": "python",
   "name": "python3"
  },
  "language_info": {
   "codemirror_mode": {
    "name": "ipython",
    "version": 3
   },
   "file_extension": ".py",
   "mimetype": "text/x-python",
   "name": "python",
   "nbconvert_exporter": "python",
   "pygments_lexer": "ipython3",
   "version": "3.6.9"
  }
 },
 "nbformat": 4,
 "nbformat_minor": 4
}
