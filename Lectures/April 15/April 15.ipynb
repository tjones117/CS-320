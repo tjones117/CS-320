{
 "cells": [
  {
   "cell_type": "code",
   "execution_count": 1,
   "metadata": {},
   "outputs": [
    {
     "data": {
      "text/plain": [
       "['haha', 'ha', 'hahahahahahahaha']"
      ]
     },
     "execution_count": 1,
     "metadata": {},
     "output_type": "execute_result"
    }
   ],
   "source": [
    "nums = [2, 1, 8]\n",
    "laughs = [\"ha\"*must for must in nums]\n",
    "laughs"
   ]
  },
  {
   "cell_type": "code",
   "execution_count": 2,
   "metadata": {},
   "outputs": [
    {
     "data": {
      "text/plain": [
       "['haha', 'ha', 'hahahahahahahaha']"
      ]
     },
     "execution_count": 2,
     "metadata": {},
     "output_type": "execute_result"
    }
   ],
   "source": [
    "from multiprocessing.pool import Pool\n",
    "\n",
    "def laugh(mult):\n",
    "    return 'ha'*mult\n",
    "\n",
    "with Pool() as p:\n",
    "    laughs = p.map(laugh, nums)\n",
    "\n",
    "laughs"
   ]
  },
  {
   "cell_type": "markdown",
   "metadata": {},
   "source": [
    "# Part 3"
   ]
  },
  {
   "cell_type": "code",
   "execution_count": 10,
   "metadata": {},
   "outputs": [
    {
     "data": {
      "text/plain": [
       "0.5093629360198975"
      ]
     },
     "execution_count": 10,
     "metadata": {},
     "output_type": "execute_result"
    }
   ],
   "source": [
    "import requests, time\n",
    "from multiprocessing.pool import Pool\n",
    "\n",
    "url = \"https://tyler.caraza-harter.com/cs320/s20/lectures/lec-20/practice7/{}.html\"\n",
    "\n",
    "def fetch(idx):\n",
    "    r = requests.get(url.format(idx))\n",
    "    r.raise_for_status()\n",
    "    return r.text\n",
    "\n",
    "fetch(1)\n",
    "\n",
    "t0 = time.time()\n",
    "with Pool(18) as p:\n",
    "    pages = p.map(fetch, range(18))\n",
    "t1 = time.time()\n",
    "t1-t0"
   ]
  },
  {
   "cell_type": "markdown",
   "metadata": {},
   "source": [
    "# Part 4"
   ]
  },
  {
   "cell_type": "code",
   "execution_count": 42,
   "metadata": {},
   "outputs": [
    {
     "name": "stdout",
     "output_type": "stream",
     "text": [
      "AAAAA\n",
      "AAA\n",
      "AA\n"
     ]
    }
   ],
   "source": [
    "from multiprocessing.pool import Pool\n",
    "\n",
    "msg = \"A\"\n",
    "\n",
    "def repeat(n):\n",
    "    print(msg * n)\n",
    "\n",
    "# msg = \"B\"\n",
    "with Pool(10) as p:\n",
    "    msg = \"C\"\n",
    "    p.map(repeat, [2,3,5])"
   ]
  },
  {
   "cell_type": "code",
   "execution_count": null,
   "metadata": {},
   "outputs": [],
   "source": []
  },
  {
   "cell_type": "code",
   "execution_count": null,
   "metadata": {},
   "outputs": [],
   "source": []
  }
 ],
 "metadata": {
  "kernelspec": {
   "display_name": "Python 3",
   "language": "python",
   "name": "python3"
  },
  "language_info": {
   "codemirror_mode": {
    "name": "ipython",
    "version": 3
   },
   "file_extension": ".py",
   "mimetype": "text/x-python",
   "name": "python",
   "nbconvert_exporter": "python",
   "pygments_lexer": "ipython3",
   "version": "3.6.9"
  }
 },
 "nbformat": 4,
 "nbformat_minor": 4
}
