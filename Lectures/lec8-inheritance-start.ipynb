{
 "cells": [
  {
   "cell_type": "markdown",
   "metadata": {},
   "source": [
    "# Context Managers (__enter__, __exit__)\n",
    "\n",
    "https://docs.python.org/3/reference/datamodel.html#with-statement-context-managers"
   ]
  },
  {
   "cell_type": "code",
   "execution_count": 1,
   "metadata": {},
   "outputs": [],
   "source": [
    "# WAY 1\n",
    "f = open(\"file.txt\", \"w\")\n",
    "f.write(\"hello\")\n",
    "# WHAT IF I CRASH HERE?\n",
    "f.write(\"hello\")\n",
    "f.close()"
   ]
  },
  {
   "cell_type": "code",
   "execution_count": 2,
   "metadata": {},
   "outputs": [],
   "source": [
    "# WAY 2 (preferred)\n",
    "with open(\"file.txt\", \"w\") as f:\n",
    "    f.write(\"hello\")\n",
    "    # WHAT IF I CRASH HERE?\n",
    "    f.write(\"hello\")\n"
   ]
  },
  {
   "cell_type": "code",
   "execution_count": 6,
   "metadata": {},
   "outputs": [],
   "source": [
    "import matplotlib\n",
    "from matplotlib import pyplot as py"
   ]
  },
  {
   "cell_type": "code",
   "execution_count": 7,
   "metadata": {},
   "outputs": [],
   "source": [
    "class MultFont:\n",
    "    def __init__(self, mult):\n",
    "        self.mult = mult\n",
    "        \n",
    "    def __enter__(self):\n",
    "        self.prior_size = matplotlib.rcParams(\"font.size\")\n",
    "        matplotlib.rcParams[]\"font.size\"] *= self.mult\n",
    "        print(\"hey, I'm here\")\n",
    "        \n",
    "        \n",
    "    def __exit__(self, exc_type, exc_value, traceback):\n",
    "        print(\"I'm done with this\")\n",
    "        \n",
    "with MultFont(2):\n",
    "    assert 1 == 2\n",
    "    plt.subplots(figsize=(1.5,1.5))"
   ]
  },
  {
   "cell_type": "code",
   "execution_count": null,
   "metadata": {},
   "outputs": [],
   "source": [
    "matplotlib.rcParams(\"font.size\")"
   ]
  },
  {
   "cell_type": "markdown",
   "metadata": {},
   "source": [
    "# Inheritance"
   ]
  },
  {
   "cell_type": "code",
   "execution_count": 35,
   "metadata": {},
   "outputs": [
    {
     "name": "stdout",
     "output_type": "stream",
     "text": [
      "Cat Steve, string expert\n",
      "Dog Sam\n"
     ]
    }
   ],
   "source": [
    "class NamedAnimal:\n",
    "#    pass\n",
    "    def __init__(self, name):\n",
    "        self.name = name\n",
    "\n",
    "    def __str__(self):\n",
    "        return \"{} {}\".format(type(self).__name__, self.name)\n",
    "\n",
    "    def __repr__(self):\n",
    "        return \"{} ('{}')\".format(type(self).__name__, self.name)\n",
    "    \n",
    "class Dog(NamedAnimal):\n",
    "    def __init__(self, name, age):\n",
    "        NamedAnimal.__init__(self, name) #manually cal parent init\n",
    "        self.age = age #Call the missing components\n",
    "\n",
    "    def speak(self):\n",
    "        print(\"bark\")\n",
    "    \n",
    "class Cat(NamedAnimal):\n",
    "    def speak(self):\n",
    "        print(\"meow\")\n",
    "        \n",
    "    def __str__(self):\n",
    "        return NamedAnimal.__str__(self) + \", string expert\"\n",
    "\n",
    "Cat.__mro__ #Method resolution order\n",
    "c = Cat(\"Steve\")\n",
    "#print(dir(object))\n",
    "#c #comes from basic functions in side object\n",
    "print(str(c))\n",
    "d = Dog(\"Sam\", 5)\n",
    "print(str(d))"
   ]
  },
  {
   "cell_type": "markdown",
   "metadata": {},
   "source": [
    "# ABC's\n",
    "\n",
    "https://docs.python.org/3/library/collections.abc.html#collections-abstract-base-classes"
   ]
  },
  {
   "cell_type": "code",
   "execution_count": 4,
   "metadata": {},
   "outputs": [],
   "source": [
    "class Range:\n",
    "    def __init__(self, bound1, bound2=None):\n",
    "        if bound2 != None:\n",
    "            self.lower = bound1\n",
    "            self.upper = bound2\n",
    "        else:\n",
    "            self.lower = 0\n",
    "            self.upper = bound1\n",
    "            \n",
    "    def __len__(self):\n",
    "        return self.upper - self.lower\n",
    "            \n",
    "    def __getitem__(self, lookup):\n",
    "        if not isinstance(lookup, int):\n",
    "            raise NotImplementedError(\"slices not supported\")\n",
    "        if lookup < 0:\n",
    "            raise NotImplementedError(\"negative not supported\")\n",
    "        if lookup >= len(self):\n",
    "            raise IndexError(\"out of bounds\")\n",
    "        return self.lower + lookup"
   ]
  }
 ],
 "metadata": {
  "kernelspec": {
   "display_name": "Python 3",
   "language": "python",
   "name": "python3"
  },
  "language_info": {
   "codemirror_mode": {
    "name": "ipython",
    "version": 3
   },
   "file_extension": ".py",
   "mimetype": "text/x-python",
   "name": "python",
   "nbconvert_exporter": "python",
   "pygments_lexer": "ipython3",
   "version": "3.6.9"
  }
 },
 "nbformat": 4,
 "nbformat_minor": 4
}
