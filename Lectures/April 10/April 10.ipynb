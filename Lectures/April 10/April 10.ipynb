{
 "cells": [
  {
   "cell_type": "code",
   "execution_count": 1,
   "metadata": {},
   "outputs": [
    {
     "data": {
      "image/png": "[encoded data removed]",
      "text/plain": [
       "<Figure size 432x288 with 1 Axes>"
      ]
     },
     "metadata": {
      "needs_background": "light"
     },
     "output_type": "display_data"
    }
   ],
   "source": [
    "import numpy as np\n",
    "import pandas as pd\n",
    "from sklearn.linear_model import LinearRegression as LR\n",
    "\n",
    "x = np.random.uniform(0.1,5,100)\n",
    "noise = np.random.normal(scale=1, size=x.size)\n",
    "y = (4-x)*(2-x)*(1-x) + noise\n",
    "df = pd.DataFrame({\"y\":y, \"x\":x})\n",
    "df.head()\n",
    "\n",
    "ax = df.plot.scatter(x=\"x\", y=\"y\")"
   ]
  },
  {
   "cell_type": "code",
   "execution_count": 3,
   "metadata": {},
   "outputs": [
    {
     "data": {
      "text/html": [
       "<div>\n",
       "<style scoped>\n",
       "    .dataframe tbody tr th:only-of-type {\n",
       "        vertical-align: middle;\n",
       "    }\n",
       "\n",
       "    .dataframe tbody tr th {\n",
       "        vertical-align: top;\n",
       "    }\n",
       "\n",
       "    .dataframe thead th {\n",
       "        text-align: right;\n",
       "    }\n",
       "</style>\n",
       "<table border=\"1\" class=\"dataframe\">\n",
       "  <thead>\n",
       "    <tr style=\"text-align: right;\">\n",
       "      <th></th>\n",
       "      <th>0</th>\n",
       "      <th>1</th>\n",
       "      <th>2</th>\n",
       "      <th>3</th>\n",
       "    </tr>\n",
       "  </thead>\n",
       "  <tbody>\n",
       "    <tr>\n",
       "      <th>0</th>\n",
       "      <td>2.462737</td>\n",
       "      <td>6.065073</td>\n",
       "      <td>14.936681</td>\n",
       "      <td>36.785116</td>\n",
       "    </tr>\n",
       "    <tr>\n",
       "      <th>1</th>\n",
       "      <td>4.121045</td>\n",
       "      <td>16.983015</td>\n",
       "      <td>69.987776</td>\n",
       "      <td>288.422799</td>\n",
       "    </tr>\n",
       "    <tr>\n",
       "      <th>2</th>\n",
       "      <td>1.957139</td>\n",
       "      <td>3.830394</td>\n",
       "      <td>7.496615</td>\n",
       "      <td>14.671921</td>\n",
       "    </tr>\n",
       "    <tr>\n",
       "      <th>3</th>\n",
       "      <td>4.265225</td>\n",
       "      <td>18.192144</td>\n",
       "      <td>77.593587</td>\n",
       "      <td>330.954106</td>\n",
       "    </tr>\n",
       "    <tr>\n",
       "      <th>4</th>\n",
       "      <td>2.137820</td>\n",
       "      <td>4.570276</td>\n",
       "      <td>9.770431</td>\n",
       "      <td>20.887426</td>\n",
       "    </tr>\n",
       "    <tr>\n",
       "      <th>...</th>\n",
       "      <td>...</td>\n",
       "      <td>...</td>\n",
       "      <td>...</td>\n",
       "      <td>...</td>\n",
       "    </tr>\n",
       "    <tr>\n",
       "      <th>95</th>\n",
       "      <td>4.773280</td>\n",
       "      <td>22.784204</td>\n",
       "      <td>108.755391</td>\n",
       "      <td>519.119959</td>\n",
       "    </tr>\n",
       "    <tr>\n",
       "      <th>96</th>\n",
       "      <td>3.757812</td>\n",
       "      <td>14.121147</td>\n",
       "      <td>53.064611</td>\n",
       "      <td>199.406805</td>\n",
       "    </tr>\n",
       "    <tr>\n",
       "      <th>97</th>\n",
       "      <td>1.667284</td>\n",
       "      <td>2.779837</td>\n",
       "      <td>4.634779</td>\n",
       "      <td>7.727495</td>\n",
       "    </tr>\n",
       "    <tr>\n",
       "      <th>98</th>\n",
       "      <td>4.745478</td>\n",
       "      <td>22.519557</td>\n",
       "      <td>106.866052</td>\n",
       "      <td>507.130451</td>\n",
       "    </tr>\n",
       "    <tr>\n",
       "      <th>99</th>\n",
       "      <td>1.234987</td>\n",
       "      <td>1.525192</td>\n",
       "      <td>1.883591</td>\n",
       "      <td>2.326210</td>\n",
       "    </tr>\n",
       "  </tbody>\n",
       "</table>\n",
       "<p>100 rows × 4 columns</p>\n",
       "</div>"
      ],
      "text/plain": [
       "           0          1           2           3\n",
       "0   2.462737   6.065073   14.936681   36.785116\n",
       "1   4.121045  16.983015   69.987776  288.422799\n",
       "2   1.957139   3.830394    7.496615   14.671921\n",
       "3   4.265225  18.192144   77.593587  330.954106\n",
       "4   2.137820   4.570276    9.770431   20.887426\n",
       "..       ...        ...         ...         ...\n",
       "95  4.773280  22.784204  108.755391  519.119959\n",
       "96  3.757812  14.121147   53.064611  199.406805\n",
       "97  1.667284   2.779837    4.634779    7.727495\n",
       "98  4.745478  22.519557  106.866052  507.130451\n",
       "99  1.234987   1.525192    1.883591    2.326210\n",
       "\n",
       "[100 rows x 4 columns]"
      ]
     },
     "execution_count": 3,
     "metadata": {},
     "output_type": "execute_result"
    }
   ],
   "source": [
    "from sklearn.preprocessing import PolynomialFeatures\n",
    "poly = PolynomialFeatures(4, include_bias=False)\n",
    "columns = [\"x\"]\n",
    "arr = poly.fit_transform(df[columns])\n",
    "poly_df = pd.DataFrame(arr)\n",
    "poly_df"
   ]
  },
  {
   "cell_type": "code",
   "execution_count": 4,
   "metadata": {},
   "outputs": [
    {
     "data": {
      "text/html": [
       "<div>\n",
       "<style scoped>\n",
       "    .dataframe tbody tr th:only-of-type {\n",
       "        vertical-align: middle;\n",
       "    }\n",
       "\n",
       "    .dataframe tbody tr th {\n",
       "        vertical-align: top;\n",
       "    }\n",
       "\n",
       "    .dataframe thead th {\n",
       "        text-align: right;\n",
       "    }\n",
       "</style>\n",
       "<table border=\"1\" class=\"dataframe\">\n",
       "  <thead>\n",
       "    <tr style=\"text-align: right;\">\n",
       "      <th></th>\n",
       "      <th>x</th>\n",
       "      <th>x^2</th>\n",
       "      <th>x^3</th>\n",
       "      <th>x^4</th>\n",
       "    </tr>\n",
       "  </thead>\n",
       "  <tbody>\n",
       "    <tr>\n",
       "      <th>0</th>\n",
       "      <td>2.462737</td>\n",
       "      <td>6.065073</td>\n",
       "      <td>14.936681</td>\n",
       "      <td>36.785116</td>\n",
       "    </tr>\n",
       "    <tr>\n",
       "      <th>1</th>\n",
       "      <td>4.121045</td>\n",
       "      <td>16.983015</td>\n",
       "      <td>69.987776</td>\n",
       "      <td>288.422799</td>\n",
       "    </tr>\n",
       "    <tr>\n",
       "      <th>2</th>\n",
       "      <td>1.957139</td>\n",
       "      <td>3.830394</td>\n",
       "      <td>7.496615</td>\n",
       "      <td>14.671921</td>\n",
       "    </tr>\n",
       "    <tr>\n",
       "      <th>3</th>\n",
       "      <td>4.265225</td>\n",
       "      <td>18.192144</td>\n",
       "      <td>77.593587</td>\n",
       "      <td>330.954106</td>\n",
       "    </tr>\n",
       "    <tr>\n",
       "      <th>4</th>\n",
       "      <td>2.137820</td>\n",
       "      <td>4.570276</td>\n",
       "      <td>9.770431</td>\n",
       "      <td>20.887426</td>\n",
       "    </tr>\n",
       "    <tr>\n",
       "      <th>...</th>\n",
       "      <td>...</td>\n",
       "      <td>...</td>\n",
       "      <td>...</td>\n",
       "      <td>...</td>\n",
       "    </tr>\n",
       "    <tr>\n",
       "      <th>95</th>\n",
       "      <td>4.773280</td>\n",
       "      <td>22.784204</td>\n",
       "      <td>108.755391</td>\n",
       "      <td>519.119959</td>\n",
       "    </tr>\n",
       "    <tr>\n",
       "      <th>96</th>\n",
       "      <td>3.757812</td>\n",
       "      <td>14.121147</td>\n",
       "      <td>53.064611</td>\n",
       "      <td>199.406805</td>\n",
       "    </tr>\n",
       "    <tr>\n",
       "      <th>97</th>\n",
       "      <td>1.667284</td>\n",
       "      <td>2.779837</td>\n",
       "      <td>4.634779</td>\n",
       "      <td>7.727495</td>\n",
       "    </tr>\n",
       "    <tr>\n",
       "      <th>98</th>\n",
       "      <td>4.745478</td>\n",
       "      <td>22.519557</td>\n",
       "      <td>106.866052</td>\n",
       "      <td>507.130451</td>\n",
       "    </tr>\n",
       "    <tr>\n",
       "      <th>99</th>\n",
       "      <td>1.234987</td>\n",
       "      <td>1.525192</td>\n",
       "      <td>1.883591</td>\n",
       "      <td>2.326210</td>\n",
       "    </tr>\n",
       "  </tbody>\n",
       "</table>\n",
       "<p>100 rows × 4 columns</p>\n",
       "</div>"
      ],
      "text/plain": [
       "           x        x^2         x^3         x^4\n",
       "0   2.462737   6.065073   14.936681   36.785116\n",
       "1   4.121045  16.983015   69.987776  288.422799\n",
       "2   1.957139   3.830394    7.496615   14.671921\n",
       "3   4.265225  18.192144   77.593587  330.954106\n",
       "4   2.137820   4.570276    9.770431   20.887426\n",
       "..       ...        ...         ...         ...\n",
       "95  4.773280  22.784204  108.755391  519.119959\n",
       "96  3.757812  14.121147   53.064611  199.406805\n",
       "97  1.667284   2.779837    4.634779    7.727495\n",
       "98  4.745478  22.519557  106.866052  507.130451\n",
       "99  1.234987   1.525192    1.883591    2.326210\n",
       "\n",
       "[100 rows x 4 columns]"
      ]
     },
     "execution_count": 4,
     "metadata": {},
     "output_type": "execute_result"
    }
   ],
   "source": [
    "from sklearn.preprocessing import PolynomialFeatures\n",
    "poly = PolynomialFeatures(4, include_bias=False)\n",
    "columns = [\"x\"]\n",
    "arr = poly.fit_transform(df[columns])\n",
    "poly_df = pd.DataFrame(arr, columns=poly.get_feature_names(columns))\n",
    "poly_df"
   ]
  },
  {
   "cell_type": "code",
   "execution_count": 5,
   "metadata": {},
   "outputs": [
    {
     "data": {
      "text/plain": [
       "[<matplotlib.lines.Line2D at 0x7f4717518048>]"
      ]
     },
     "execution_count": 5,
     "metadata": {},
     "output_type": "execute_result"
    },
    {
     "data": {
      "image/png": "[encoded data removed]",
      "text/plain": [
       "<Figure size 432x288 with 1 Axes>"
      ]
     },
     "metadata": {
      "needs_background": "light"
     },
     "output_type": "display_data"
    }
   ],
   "source": [
    "lr = LR()\n",
    "lr.fit(poly_df, df[[\"y\"]])\n",
    "lr.coef_, lr.intercept_\n",
    "\n",
    "ax = df.plot.scatter(x=\"x\", y=\"y\", color=\"0.7\")\n",
    "\n",
    "# compute coords along fit line, then plot it\n",
    "fit_x = np.arange(0, 5, 0.1).reshape(-1,1)\n",
    "fit_y = lr.predict(poly.fit_transform(fit_x))\n",
    "ax.plot(fit_x, fit_y, \"red\")"
   ]
  },
  {
   "cell_type": "markdown",
   "metadata": {},
   "source": [
    "# Part 2"
   ]
  },
  {
   "cell_type": "code",
   "execution_count": 10,
   "metadata": {},
   "outputs": [
    {
     "data": {
      "text/plain": [
       "[<matplotlib.lines.Line2D at 0x7f4717380550>]"
      ]
     },
     "execution_count": 10,
     "metadata": {},
     "output_type": "execute_result"
    },
    {
     "data": {
      "image/png": "[encoded data removed]",
      "text/plain": [
       "<Figure size 432x288 with 1 Axes>"
      ]
     },
     "metadata": {
      "needs_background": "light"
     },
     "output_type": "display_data"
    }
   ],
   "source": [
    "import numpy as np\n",
    "import pandas as pd\n",
    "from sklearn.linear_model import LinearRegression as LR\n",
    "from sklearn.preprocessing import PolynomialFeatures\n",
    "\n",
    "# random data\n",
    "x = np.random.uniform(0.1, 5, 100000) # TODO: specify sample size\n",
    "noise = np.random.normal(scale=1, size=x.size)\n",
    "y = (4-x)*(2-x)*(1-x) + noise\n",
    "df = pd.DataFrame({\"y\":y, \"x\":x})\n",
    "\n",
    "# add columns for polynomial terms\n",
    "poly = PolynomialFeatures(15, include_bias=False)\n",
    "columns = [\"x\"]\n",
    "arr = poly.fit_transform(df[columns])\n",
    "poly_df = pd.DataFrame(arr, columns=poly.get_feature_names(columns))\n",
    "\n",
    "# linear regression\n",
    "lr = LR()\n",
    "lr.fit(poly_df, df[[\"y\"]])\n",
    "ax = df.plot.scatter(x=\"x\", y=\"y\", color=\"0.7\", ylim=(-20, 20))\n",
    "\n",
    "# compute coords along fit line, then plot it\n",
    "fit_x = np.arange(0, 5, 0.1).reshape(-1,1)\n",
    "fit_y = lr.predict(poly.fit_transform(fit_x))\n",
    "ax.plot(fit_x, fit_y, \"red\")"
   ]
  },
  {
   "cell_type": "markdown",
   "metadata": {},
   "source": [
    "# Part 3"
   ]
  },
  {
   "cell_type": "code",
   "execution_count": 11,
   "metadata": {},
   "outputs": [
    {
     "data": {
      "text/html": [
       "<div>\n",
       "<style scoped>\n",
       "    .dataframe tbody tr th:only-of-type {\n",
       "        vertical-align: middle;\n",
       "    }\n",
       "\n",
       "    .dataframe tbody tr th {\n",
       "        vertical-align: top;\n",
       "    }\n",
       "\n",
       "    .dataframe thead th {\n",
       "        text-align: right;\n",
       "    }\n",
       "</style>\n",
       "<table border=\"1\" class=\"dataframe\">\n",
       "  <thead>\n",
       "    <tr style=\"text-align: right;\">\n",
       "      <th></th>\n",
       "      <th>w_in</th>\n",
       "      <th>h_in</th>\n",
       "      <th>border_in</th>\n",
       "      <th>w_cm</th>\n",
       "      <th>h_cm</th>\n",
       "    </tr>\n",
       "  </thead>\n",
       "  <tbody>\n",
       "    <tr>\n",
       "      <th>0</th>\n",
       "      <td>4.361074</td>\n",
       "      <td>5.307095</td>\n",
       "      <td>23.240897</td>\n",
       "      <td>11.724773</td>\n",
       "      <td>13.865461</td>\n",
       "    </tr>\n",
       "    <tr>\n",
       "      <th>1</th>\n",
       "      <td>26.169713</td>\n",
       "      <td>33.698578</td>\n",
       "      <td>122.397565</td>\n",
       "      <td>67.736100</td>\n",
       "      <td>87.671793</td>\n",
       "    </tr>\n",
       "    <tr>\n",
       "      <th>2</th>\n",
       "      <td>21.745456</td>\n",
       "      <td>18.121842</td>\n",
       "      <td>86.209308</td>\n",
       "      <td>56.018447</td>\n",
       "      <td>52.669552</td>\n",
       "    </tr>\n",
       "    <tr>\n",
       "      <th>3</th>\n",
       "      <td>24.945840</td>\n",
       "      <td>43.373553</td>\n",
       "      <td>133.599810</td>\n",
       "      <td>62.171394</td>\n",
       "      <td>105.812209</td>\n",
       "    </tr>\n",
       "    <tr>\n",
       "      <th>4</th>\n",
       "      <td>13.659834</td>\n",
       "      <td>13.996958</td>\n",
       "      <td>60.634125</td>\n",
       "      <td>39.227859</td>\n",
       "      <td>40.356770</td>\n",
       "    </tr>\n",
       "  </tbody>\n",
       "</table>\n",
       "</div>"
      ],
      "text/plain": [
       "        w_in       h_in   border_in       w_cm        h_cm\n",
       "0   4.361074   5.307095   23.240897  11.724773   13.865461\n",
       "1  26.169713  33.698578  122.397565  67.736100   87.671793\n",
       "2  21.745456  18.121842   86.209308  56.018447   52.669552\n",
       "3  24.945840  43.373553  133.599810  62.171394  105.812209\n",
       "4  13.659834  13.996958   60.634125  39.227859   40.356770"
      ]
     },
     "execution_count": 11,
     "metadata": {},
     "output_type": "execute_result"
    }
   ],
   "source": [
    "import matplotlib.pyplot as plt\n",
    "import numpy as np\n",
    "import pandas as pd\n",
    "\n",
    "# build DataFrame of rectangle measurements\n",
    "\n",
    "df = pd.DataFrame()\n",
    "rows = 100\n",
    "df[\"w_in\"] = np.random.uniform(5,50,rows) # in inches\n",
    "df[\"h_in\"] = np.random.uniform(5,50,rows)\n",
    "df[\"border_in\"] = 2*df[\"w_in\"] + 2*df[\"h_in\"]\n",
    "df[\"w_cm\"] = df[\"w_in\"] * 2.54\n",
    "df[\"h_cm\"] = df[\"h_in\"] * 2.54\n",
    "df += np.random.normal(size=(df.shape))\n",
    "df.head()"
   ]
  },
  {
   "cell_type": "code",
   "execution_count": 12,
   "metadata": {},
   "outputs": [
    {
     "data": {
      "text/html": [
       "<div>\n",
       "<style scoped>\n",
       "    .dataframe tbody tr th:only-of-type {\n",
       "        vertical-align: middle;\n",
       "    }\n",
       "\n",
       "    .dataframe tbody tr th {\n",
       "        vertical-align: top;\n",
       "    }\n",
       "\n",
       "    .dataframe thead th {\n",
       "        text-align: right;\n",
       "    }\n",
       "</style>\n",
       "<table border=\"1\" class=\"dataframe\">\n",
       "  <thead>\n",
       "    <tr style=\"text-align: right;\">\n",
       "      <th></th>\n",
       "      <th>w_in</th>\n",
       "      <th>h_in</th>\n",
       "      <th>border_in</th>\n",
       "      <th>w_cm</th>\n",
       "      <th>h_cm</th>\n",
       "    </tr>\n",
       "  </thead>\n",
       "  <tbody>\n",
       "    <tr>\n",
       "      <th>w_in</th>\n",
       "      <td>1.000000</td>\n",
       "      <td>0.102777</td>\n",
       "      <td>0.739198</td>\n",
       "      <td>0.996892</td>\n",
       "      <td>0.096059</td>\n",
       "    </tr>\n",
       "    <tr>\n",
       "      <th>h_in</th>\n",
       "      <td>0.102777</td>\n",
       "      <td>1.000000</td>\n",
       "      <td>0.742039</td>\n",
       "      <td>0.105283</td>\n",
       "      <td>0.996636</td>\n",
       "    </tr>\n",
       "    <tr>\n",
       "      <th>border_in</th>\n",
       "      <td>0.739198</td>\n",
       "      <td>0.742039</td>\n",
       "      <td>1.000000</td>\n",
       "      <td>0.742352</td>\n",
       "      <td>0.738259</td>\n",
       "    </tr>\n",
       "    <tr>\n",
       "      <th>w_cm</th>\n",
       "      <td>0.996892</td>\n",
       "      <td>0.105283</td>\n",
       "      <td>0.742352</td>\n",
       "      <td>1.000000</td>\n",
       "      <td>0.097692</td>\n",
       "    </tr>\n",
       "    <tr>\n",
       "      <th>h_cm</th>\n",
       "      <td>0.096059</td>\n",
       "      <td>0.996636</td>\n",
       "      <td>0.738259</td>\n",
       "      <td>0.097692</td>\n",
       "      <td>1.000000</td>\n",
       "    </tr>\n",
       "  </tbody>\n",
       "</table>\n",
       "</div>"
      ],
      "text/plain": [
       "               w_in      h_in  border_in      w_cm      h_cm\n",
       "w_in       1.000000  0.102777   0.739198  0.996892  0.096059\n",
       "h_in       0.102777  1.000000   0.742039  0.105283  0.996636\n",
       "border_in  0.739198  0.742039   1.000000  0.742352  0.738259\n",
       "w_cm       0.996892  0.105283   0.742352  1.000000  0.097692\n",
       "h_cm       0.096059  0.996636   0.738259  0.097692  1.000000"
      ]
     },
     "execution_count": 12,
     "metadata": {},
     "output_type": "execute_result"
    }
   ],
   "source": [
    "corr = df.corr()\n",
    "corr"
   ]
  },
  {
   "cell_type": "code",
   "execution_count": 23,
   "metadata": {},
   "outputs": [
    {
     "data": {
      "text/plain": [
       "([<matplotlib.axis.YTick at 0x7f471628ef98>,\n",
       "  <matplotlib.axis.YTick at 0x7f471628e978>,\n",
       "  <matplotlib.axis.YTick at 0x7f471628ada0>,\n",
       "  <matplotlib.axis.YTick at 0x7f47161fd630>,\n",
       "  <matplotlib.axis.YTick at 0x7f47161fdac8>],\n",
       " [Text(0, 0, 'w_in'),\n",
       "  Text(0, 0, 'h_in'),\n",
       "  Text(0, 0, 'border_in'),\n",
       "  Text(0, 0, 'w_cm'),\n",
       "  Text(0, 0, 'h_cm')])"
      ]
     },
     "execution_count": 23,
     "metadata": {},
     "output_type": "execute_result"
    },
    {
     "data": {
      "image/png": "[encoded data removed]",
      "text/plain": [
       "<Figure size 432x288 with 2 Axes>"
      ]
     },
     "metadata": {
      "needs_background": "light"
     },
     "output_type": "display_data"
    }
   ],
   "source": [
    "ax = plt.imshow(corr, cmap='Spectral', vmin=-1, vmax=1)\n",
    "plt.colorbar()\n",
    "plt.xticks(range(len(corr)), corr.columns)\n",
    "plt.yticks(range(len(corr)), corr.columns)"
   ]
  },
  {
   "cell_type": "code",
   "execution_count": null,
   "metadata": {},
   "outputs": [],
   "source": []
  }
 ],
 "metadata": {
  "kernelspec": {
   "display_name": "Python 3",
   "language": "python",
   "name": "python3"
  },
  "language_info": {
   "codemirror_mode": {
    "name": "ipython",
    "version": 3
   },
   "file_extension": ".py",
   "mimetype": "text/x-python",
   "name": "python",
   "nbconvert_exporter": "python",
   "pygments_lexer": "ipython3",
   "version": "3.6.9"
  }
 },
 "nbformat": 4,
 "nbformat_minor": 4
}
