{
 "cells": [
  {
   "cell_type": "code",
   "execution_count": 2,
   "metadata": {},
   "outputs": [
    {
     "name": "stdout",
     "output_type": "stream",
     "text": [
      "test\n",
      "calling f\n",
      "running f\n"
     ]
    }
   ],
   "source": [
    "def test(fn):\n",
    "    print(\"test\")\n",
    "    return fn\n",
    "\n",
    "@test\n",
    "def f():\n",
    "    print(\"running f\")\n",
    "\n",
    "print(\"calling f\")\n",
    "f()"
   ]
  },
  {
   "cell_type": "code",
   "execution_count": 3,
   "metadata": {},
   "outputs": [
    {
     "name": "stdout",
     "output_type": "stream",
     "text": [
      "running f\n",
      "running g\n",
      "running g\n",
      "{'f': 1, 'g': 2}\n"
     ]
    }
   ],
   "source": [
    "counts = {}\n",
    "\n",
    "def count(fn):\n",
    "    counts[fn.__name__] = 0\n",
    "    def wrapper():\n",
    "        counts[fn.__name__] += 1\n",
    "        fn()\n",
    "    return wrapper\n",
    "\n",
    "@count\n",
    "def f():\n",
    "    print(\"running f\")\n",
    "\n",
    "@count\n",
    "def g():\n",
    "    print(\"running g\")\n",
    "\n",
    "f()\n",
    "g()\n",
    "g()\n",
    "print(counts)"
   ]
  },
  {
   "cell_type": "code",
   "execution_count": null,
   "metadata": {},
   "outputs": [],
   "source": []
  },
  {
   "cell_type": "code",
   "execution_count": null,
   "metadata": {},
   "outputs": [],
   "source": []
  }
 ],
 "metadata": {
  "kernelspec": {
   "display_name": "Python 3",
   "language": "python",
   "name": "python3"
  },
  "language_info": {
   "codemirror_mode": {
    "name": "ipython",
    "version": 3
   },
   "file_extension": ".py",
   "mimetype": "text/x-python",
   "name": "python",
   "nbconvert_exporter": "python",
   "pygments_lexer": "ipython3",
   "version": "3.6.9"
  }
 },
 "nbformat": 4,
 "nbformat_minor": 2
}
