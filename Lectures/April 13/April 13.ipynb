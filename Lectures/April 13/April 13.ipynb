{
 "cells": [
  {
   "cell_type": "code",
   "execution_count": 1,
   "metadata": {},
   "outputs": [],
   "source": [
    "import numpy as np\n",
    "\n",
    "u = np.array([[-0.21483724,  0.88723069,  0.40824829],\n",
    "              [-0.52058739,  0.24964395, -0.81649658],\n",
    "              [-0.82633754, -0.38794278,  0.40824829]])\n",
    "s = np.array([16.84810335261421, 1.06836951455471, 0])\n",
    "vt = np.array([[-0.47967118, -0.57236779, -0.66506441],\n",
    "               [-0.77669099, -0.07568647,  0.62531805],\n",
    "               [-0.40824829,  0.81649658, -0.40824829]])"
   ]
  },
  {
   "cell_type": "code",
   "execution_count": 2,
   "metadata": {},
   "outputs": [
    {
     "data": {
      "text/plain": [
       "array([[1., 2., 3.],\n",
       "       [4., 5., 6.],\n",
       "       [7., 8., 9.]])"
      ]
     },
     "execution_count": 2,
     "metadata": {},
     "output_type": "execute_result"
    }
   ],
   "source": [
    "A = (u*s).dot(vt)\n",
    "np.round(A, 2)"
   ]
  },
  {
   "cell_type": "markdown",
   "metadata": {},
   "source": [
    "# Part 2"
   ]
  },
  {
   "cell_type": "code",
   "execution_count": 6,
   "metadata": {},
   "outputs": [
    {
     "data": {
      "text/plain": [
       "array([[-3.29685518],\n",
       "       [-3.29685516],\n",
       "       [-3.29685521]])"
      ]
     },
     "execution_count": 6,
     "metadata": {},
     "output_type": "execute_result"
    }
   ],
   "source": [
    "A = np.array([[4, 1, 7],\n",
    "              [1, 4, 3],\n",
    "              [7, 3, 4]])\n",
    "\n",
    "v1 = np.array([0.68777769, 0.4381872, 0.69928217]).reshape(-1,1)\n",
    "v2 = np.array([-0.1017017, -0.77186858, 0.29665168]).reshape(-1,1)\n",
    "v3 = np.array([0.6627402, 0.20526185, -0.72016873]).reshape(-1,1)\n",
    "v4 = np.array([0.89036881, -0.78460023, 0.30786775]).reshape(-1,1)\n",
    "\n",
    "A.dot(v3) / v3"
   ]
  },
  {
   "cell_type": "markdown",
   "metadata": {},
   "source": [
    "# Part 3"
   ]
  },
  {
   "cell_type": "code",
   "execution_count": 7,
   "metadata": {},
   "outputs": [
    {
     "data": {
      "text/html": [
       "<div>\n",
       "<style scoped>\n",
       "    .dataframe tbody tr th:only-of-type {\n",
       "        vertical-align: middle;\n",
       "    }\n",
       "\n",
       "    .dataframe tbody tr th {\n",
       "        vertical-align: top;\n",
       "    }\n",
       "\n",
       "    .dataframe thead th {\n",
       "        text-align: right;\n",
       "    }\n",
       "</style>\n",
       "<table border=\"1\" class=\"dataframe\">\n",
       "  <thead>\n",
       "    <tr style=\"text-align: right;\">\n",
       "      <th></th>\n",
       "      <th>JerseyNumber</th>\n",
       "      <th>Age</th>\n",
       "      <th>Wage</th>\n",
       "      <th>Value</th>\n",
       "      <th>PreferredFootInt</th>\n",
       "    </tr>\n",
       "  </thead>\n",
       "  <tbody>\n",
       "    <tr>\n",
       "      <th>0</th>\n",
       "      <td>1</td>\n",
       "      <td>25</td>\n",
       "      <td>8.0</td>\n",
       "      <td>900.0</td>\n",
       "      <td>1</td>\n",
       "    </tr>\n",
       "    <tr>\n",
       "      <th>1</th>\n",
       "      <td>26</td>\n",
       "      <td>18</td>\n",
       "      <td>1.0</td>\n",
       "      <td>450.0</td>\n",
       "      <td>1</td>\n",
       "    </tr>\n",
       "    <tr>\n",
       "      <th>2</th>\n",
       "      <td>30</td>\n",
       "      <td>18</td>\n",
       "      <td>1.0</td>\n",
       "      <td>130.0</td>\n",
       "      <td>1</td>\n",
       "    </tr>\n",
       "    <tr>\n",
       "      <th>3</th>\n",
       "      <td>17</td>\n",
       "      <td>23</td>\n",
       "      <td>22.0</td>\n",
       "      <td>2300.0</td>\n",
       "      <td>1</td>\n",
       "    </tr>\n",
       "    <tr>\n",
       "      <th>4</th>\n",
       "      <td>23</td>\n",
       "      <td>33</td>\n",
       "      <td>6.0</td>\n",
       "      <td>425.0</td>\n",
       "      <td>1</td>\n",
       "    </tr>\n",
       "    <tr>\n",
       "      <th>5</th>\n",
       "      <td>31</td>\n",
       "      <td>31</td>\n",
       "      <td>3.0</td>\n",
       "      <td>325.0</td>\n",
       "      <td>1</td>\n",
       "    </tr>\n",
       "    <tr>\n",
       "      <th>6</th>\n",
       "      <td>14</td>\n",
       "      <td>24</td>\n",
       "      <td>3.0</td>\n",
       "      <td>600.0</td>\n",
       "      <td>1</td>\n",
       "    </tr>\n",
       "    <tr>\n",
       "      <th>7</th>\n",
       "      <td>8</td>\n",
       "      <td>21</td>\n",
       "      <td>3.0</td>\n",
       "      <td>240.0</td>\n",
       "      <td>1</td>\n",
       "    </tr>\n",
       "    <tr>\n",
       "      <th>8</th>\n",
       "      <td>21</td>\n",
       "      <td>31</td>\n",
       "      <td>7.0</td>\n",
       "      <td>600.0</td>\n",
       "      <td>1</td>\n",
       "    </tr>\n",
       "    <tr>\n",
       "      <th>9</th>\n",
       "      <td>12</td>\n",
       "      <td>20</td>\n",
       "      <td>1.0</td>\n",
       "      <td>230.0</td>\n",
       "      <td>1</td>\n",
       "    </tr>\n",
       "    <tr>\n",
       "      <th>10</th>\n",
       "      <td>9</td>\n",
       "      <td>20</td>\n",
       "      <td>4.0</td>\n",
       "      <td>450.0</td>\n",
       "      <td>0</td>\n",
       "    </tr>\n",
       "    <tr>\n",
       "      <th>11</th>\n",
       "      <td>28</td>\n",
       "      <td>20</td>\n",
       "      <td>5.0</td>\n",
       "      <td>1600.0</td>\n",
       "      <td>0</td>\n",
       "    </tr>\n",
       "    <tr>\n",
       "      <th>12</th>\n",
       "      <td>10</td>\n",
       "      <td>25</td>\n",
       "      <td>16.0</td>\n",
       "      <td>10500.0</td>\n",
       "      <td>0</td>\n",
       "    </tr>\n",
       "    <tr>\n",
       "      <th>13</th>\n",
       "      <td>13</td>\n",
       "      <td>22</td>\n",
       "      <td>3.0</td>\n",
       "      <td>1000.0</td>\n",
       "      <td>0</td>\n",
       "    </tr>\n",
       "    <tr>\n",
       "      <th>14</th>\n",
       "      <td>9</td>\n",
       "      <td>30</td>\n",
       "      <td>4.0</td>\n",
       "      <td>625.0</td>\n",
       "      <td>0</td>\n",
       "    </tr>\n",
       "    <tr>\n",
       "      <th>15</th>\n",
       "      <td>34</td>\n",
       "      <td>34</td>\n",
       "      <td>7.0</td>\n",
       "      <td>2700.0</td>\n",
       "      <td>0</td>\n",
       "    </tr>\n",
       "    <tr>\n",
       "      <th>16</th>\n",
       "      <td>29</td>\n",
       "      <td>21</td>\n",
       "      <td>1.0</td>\n",
       "      <td>575.0</td>\n",
       "      <td>0</td>\n",
       "    </tr>\n",
       "    <tr>\n",
       "      <th>17</th>\n",
       "      <td>25</td>\n",
       "      <td>20</td>\n",
       "      <td>1.0</td>\n",
       "      <td>500.0</td>\n",
       "      <td>0</td>\n",
       "    </tr>\n",
       "    <tr>\n",
       "      <th>18</th>\n",
       "      <td>22</td>\n",
       "      <td>29</td>\n",
       "      <td>3.0</td>\n",
       "      <td>700.0</td>\n",
       "      <td>0</td>\n",
       "    </tr>\n",
       "    <tr>\n",
       "      <th>19</th>\n",
       "      <td>3</td>\n",
       "      <td>31</td>\n",
       "      <td>3.0</td>\n",
       "      <td>425.0</td>\n",
       "      <td>0</td>\n",
       "    </tr>\n",
       "  </tbody>\n",
       "</table>\n",
       "</div>"
      ],
      "text/plain": [
       "    JerseyNumber  Age  Wage    Value  PreferredFootInt\n",
       "0              1   25   8.0    900.0                 1\n",
       "1             26   18   1.0    450.0                 1\n",
       "2             30   18   1.0    130.0                 1\n",
       "3             17   23  22.0   2300.0                 1\n",
       "4             23   33   6.0    425.0                 1\n",
       "5             31   31   3.0    325.0                 1\n",
       "6             14   24   3.0    600.0                 1\n",
       "7              8   21   3.0    240.0                 1\n",
       "8             21   31   7.0    600.0                 1\n",
       "9             12   20   1.0    230.0                 1\n",
       "10             9   20   4.0    450.0                 0\n",
       "11            28   20   5.0   1600.0                 0\n",
       "12            10   25  16.0  10500.0                 0\n",
       "13            13   22   3.0   1000.0                 0\n",
       "14             9   30   4.0    625.0                 0\n",
       "15            34   34   7.0   2700.0                 0\n",
       "16            29   21   1.0    575.0                 0\n",
       "17            25   20   1.0    500.0                 0\n",
       "18            22   29   3.0    700.0                 0\n",
       "19             3   31   3.0    425.0                 0"
      ]
     },
     "execution_count": 7,
     "metadata": {},
     "output_type": "execute_result"
    }
   ],
   "source": [
    "import numpy as np\n",
    "import pandas as pd\n",
    "\n",
    "rows = [['M. Dupé', 1, 25, 'Right', 8.0, 900.0],\n",
    "       ['N. Fernández', 26, 18, 'Right', 1.0, 450.0],\n",
    "       ['P. Kalambayi', 30, 18, 'Right', 1.0, 130.0],\n",
    "       ['P. McNair', 17, 23, 'Right', 22.0, 2300.0],\n",
    "       ['G. Bojanich', 23, 33, 'Right', 6.0, 425.0],\n",
    "       ['A. Kofler', 31, 31, 'Right', 3.0, 325.0],\n",
    "       ['N. Lavanchy', 14, 24, 'Right', 3.0, 600.0],\n",
    "       ['O. Al Khalaf', 8, 21, 'Right', 3.0, 240.0],\n",
    "       ['J. Sills', 21, 31, 'Right', 7.0, 600.0],\n",
    "       ['B. Fox', 12, 20, 'Right', 1.0, 230.0],\n",
    "       ['S. Smith', 9, 20, 'Left', 4.0, 450.0],\n",
    "       ['E. Ocansey', 28, 20, 'Left', 5.0, 1600.0],\n",
    "       ['F. Kostić', 10, 25, 'Left', 16.0, 10500.0],\n",
    "       ['M. Ullmann', 13, 22, 'Left', 3.0, 1000.0],\n",
    "       ['R. Taylor', 9, 30, 'Left', 4.0, 625.0],\n",
    "       ['N. Vikonis', 34, 34, 'Left', 7.0, 2700.0],\n",
    "       ['J. Aguirre', 29, 21, 'Left', 1.0, 575.0],\n",
    "       ['J. Konings', 25, 20, 'Left', 1.0, 500.0],\n",
    "       ['J. Raitala', 22, 29, 'Left', 3.0, 700.0],\n",
    "       ['A. Taylor', 3, 31, 'Left', 3.0, 425.0]]\n",
    "df = pd.DataFrame.from_records(rows, columns=[\"Name\", \"JerseyNumber\", \"Age\", \"PreferredFoot\", \"Wage\", \"Value\"])\n",
    "df[\"PreferredFootInt\"] = (df[\"PreferredFoot\"] == \"Right\").astype(int)\n",
    "df = df[[\"JerseyNumber\", \"Age\", \"Wage\", \"Value\", \"PreferredFootInt\"]]\n",
    "df"
   ]
  },
  {
   "cell_type": "code",
   "execution_count": 8,
   "metadata": {},
   "outputs": [
    {
     "data": {
      "text/plain": [
       "array([0.98439685, 0.99521466, 0.99836246, 0.999822  , 1.        ])"
      ]
     },
     "execution_count": 8,
     "metadata": {},
     "output_type": "execute_result"
    }
   ],
   "source": [
    "_,s,_ = np.linalg.svd(df)\n",
    "s = np.array(sorted(np.abs(s), reverse=True))\n",
    "s.cumsum() / s.sum()"
   ]
  },
  {
   "cell_type": "markdown",
   "metadata": {},
   "source": [
    "# Part 4"
   ]
  },
  {
   "cell_type": "code",
   "execution_count": 9,
   "metadata": {},
   "outputs": [
    {
     "data": {
      "text/html": [
       "<div>\n",
       "<style scoped>\n",
       "    .dataframe tbody tr th:only-of-type {\n",
       "        vertical-align: middle;\n",
       "    }\n",
       "\n",
       "    .dataframe tbody tr th {\n",
       "        vertical-align: top;\n",
       "    }\n",
       "\n",
       "    .dataframe thead th {\n",
       "        text-align: right;\n",
       "    }\n",
       "</style>\n",
       "<table border=\"1\" class=\"dataframe\">\n",
       "  <thead>\n",
       "    <tr style=\"text-align: right;\">\n",
       "      <th></th>\n",
       "      <th>x1</th>\n",
       "      <th>x2</th>\n",
       "      <th>x3</th>\n",
       "      <th>y</th>\n",
       "    </tr>\n",
       "  </thead>\n",
       "  <tbody>\n",
       "    <tr>\n",
       "      <th>0</th>\n",
       "      <td>192.402604</td>\n",
       "      <td>-256.936380</td>\n",
       "      <td>126.687448</td>\n",
       "      <td>-72.399906</td>\n",
       "    </tr>\n",
       "    <tr>\n",
       "      <th>1</th>\n",
       "      <td>1.282851</td>\n",
       "      <td>21.867371</td>\n",
       "      <td>19.099045</td>\n",
       "      <td>1.790768</td>\n",
       "    </tr>\n",
       "    <tr>\n",
       "      <th>2</th>\n",
       "      <td>33.859104</td>\n",
       "      <td>-35.780793</td>\n",
       "      <td>32.326489</td>\n",
       "      <td>-7.271034</td>\n",
       "    </tr>\n",
       "    <tr>\n",
       "      <th>3</th>\n",
       "      <td>53.831577</td>\n",
       "      <td>-93.176291</td>\n",
       "      <td>42.597560</td>\n",
       "      <td>-4.585470</td>\n",
       "    </tr>\n",
       "    <tr>\n",
       "      <th>4</th>\n",
       "      <td>96.581211</td>\n",
       "      <td>-126.337018</td>\n",
       "      <td>66.893196</td>\n",
       "      <td>-37.887618</td>\n",
       "    </tr>\n",
       "  </tbody>\n",
       "</table>\n",
       "</div>"
      ],
      "text/plain": [
       "           x1          x2          x3          y\n",
       "0  192.402604 -256.936380  126.687448 -72.399906\n",
       "1    1.282851   21.867371   19.099045   1.790768\n",
       "2   33.859104  -35.780793   32.326489  -7.271034\n",
       "3   53.831577  -93.176291   42.597560  -4.585470\n",
       "4   96.581211 -126.337018   66.893196 -37.887618"
      ]
     },
     "execution_count": 9,
     "metadata": {},
     "output_type": "execute_result"
    }
   ],
   "source": [
    "import numpy as np\n",
    "import pandas as pd\n",
    "\n",
    "x = np.random.uniform(0,100,size=50) # hidden\n",
    "y = 20 - x # want to predict this\n",
    "x1 = 2*x\n",
    "x2 = 10-3*x\n",
    "x3 = 20+x\n",
    "df = pd.DataFrame({\"x1\":x1, \"x2\":x2, \"x3\":x3, \"y\":y})\n",
    "noise = np.random.normal(scale=10, size=df.shape)\n",
    "df += noise\n",
    "df.head()"
   ]
  },
  {
   "cell_type": "code",
   "execution_count": 10,
   "metadata": {},
   "outputs": [
    {
     "data": {
      "text/html": [
       "<div>\n",
       "<style scoped>\n",
       "    .dataframe tbody tr th:only-of-type {\n",
       "        vertical-align: middle;\n",
       "    }\n",
       "\n",
       "    .dataframe tbody tr th {\n",
       "        vertical-align: top;\n",
       "    }\n",
       "\n",
       "    .dataframe thead th {\n",
       "        text-align: right;\n",
       "    }\n",
       "</style>\n",
       "<table border=\"1\" class=\"dataframe\">\n",
       "  <thead>\n",
       "    <tr style=\"text-align: right;\">\n",
       "      <th></th>\n",
       "      <th>x1</th>\n",
       "      <th>x2</th>\n",
       "      <th>x3</th>\n",
       "      <th>y</th>\n",
       "      <th>pc1</th>\n",
       "    </tr>\n",
       "  </thead>\n",
       "  <tbody>\n",
       "    <tr>\n",
       "      <th>0</th>\n",
       "      <td>192.402604</td>\n",
       "      <td>-256.936380</td>\n",
       "      <td>126.687448</td>\n",
       "      <td>-72.399906</td>\n",
       "      <td>-148.569676</td>\n",
       "    </tr>\n",
       "    <tr>\n",
       "      <th>1</th>\n",
       "      <td>1.282851</td>\n",
       "      <td>21.867371</td>\n",
       "      <td>19.099045</td>\n",
       "      <td>1.790768</td>\n",
       "      <td>205.978906</td>\n",
       "    </tr>\n",
       "    <tr>\n",
       "      <th>2</th>\n",
       "      <td>33.859104</td>\n",
       "      <td>-35.780793</td>\n",
       "      <td>32.326489</td>\n",
       "      <td>-7.271034</td>\n",
       "      <td>138.904157</td>\n",
       "    </tr>\n",
       "    <tr>\n",
       "      <th>3</th>\n",
       "      <td>53.831577</td>\n",
       "      <td>-93.176291</td>\n",
       "      <td>42.597560</td>\n",
       "      <td>-4.585470</td>\n",
       "      <td>79.388833</td>\n",
       "    </tr>\n",
       "    <tr>\n",
       "      <th>4</th>\n",
       "      <td>96.581211</td>\n",
       "      <td>-126.337018</td>\n",
       "      <td>66.893196</td>\n",
       "      <td>-37.887618</td>\n",
       "      <td>23.525396</td>\n",
       "    </tr>\n",
       "  </tbody>\n",
       "</table>\n",
       "</div>"
      ],
      "text/plain": [
       "           x1          x2          x3          y         pc1\n",
       "0  192.402604 -256.936380  126.687448 -72.399906 -148.569676\n",
       "1    1.282851   21.867371   19.099045   1.790768  205.978906\n",
       "2   33.859104  -35.780793   32.326489  -7.271034  138.904157\n",
       "3   53.831577  -93.176291   42.597560  -4.585470   79.388833\n",
       "4   96.581211 -126.337018   66.893196 -37.887618   23.525396"
      ]
     },
     "execution_count": 10,
     "metadata": {},
     "output_type": "execute_result"
    }
   ],
   "source": [
    "from sklearn.decomposition import PCA\n",
    "pca = PCA(1)\n",
    "df[\"pc1\"] = pca.fit_transform(df[['x1', 'x2', 'x3']])\n",
    "df.head()"
   ]
  },
  {
   "cell_type": "code",
   "execution_count": 11,
   "metadata": {},
   "outputs": [
    {
     "data": {
      "text/plain": [
       "<matplotlib.axes._subplots.AxesSubplot at 0x7f89e3d0de10>"
      ]
     },
     "execution_count": 11,
     "metadata": {},
     "output_type": "execute_result"
    },
    {
     "data": {
      "image/png": "[encoded data removed]",
      "text/plain": [
       "<Figure size 432x288 with 1 Axes>"
      ]
     },
     "metadata": {
      "needs_background": "light"
     },
     "output_type": "display_data"
    }
   ],
   "source": [
    "df.plot.scatter(x=\"pc1\", y=\"y\", color=\"red\")"
   ]
  },
  {
   "cell_type": "code",
   "execution_count": 12,
   "metadata": {},
   "outputs": [
    {
     "data": {
      "text/plain": [
       "array([0.97787996])"
      ]
     },
     "execution_count": 12,
     "metadata": {},
     "output_type": "execute_result"
    }
   ],
   "source": [
    "pca.explained_variance_ratio_"
   ]
  },
  {
   "cell_type": "code",
   "execution_count": null,
   "metadata": {},
   "outputs": [],
   "source": []
  }
 ],
 "metadata": {
  "kernelspec": {
   "display_name": "Python 3",
   "language": "python",
   "name": "python3"
  },
  "language_info": {
   "codemirror_mode": {
    "name": "ipython",
    "version": 3
   },
   "file_extension": ".py",
   "mimetype": "text/x-python",
   "name": "python",
   "nbconvert_exporter": "python",
   "pygments_lexer": "ipython3",
   "version": "3.6.9"
  }
 },
 "nbformat": 4,
 "nbformat_minor": 4
}
