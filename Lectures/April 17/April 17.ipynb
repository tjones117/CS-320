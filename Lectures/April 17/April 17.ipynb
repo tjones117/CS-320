{
 "cells": [
  {
   "cell_type": "code",
   "execution_count": 1,
   "metadata": {},
   "outputs": [
    {
     "data": {
      "text/plain": [
       "tensor(6)"
      ]
     },
     "execution_count": 1,
     "metadata": {},
     "output_type": "execute_result"
    }
   ],
   "source": [
    "import torch\n",
    "a = torch.tensor([1,2,3])\n",
    "a.sum()"
   ]
  },
  {
   "cell_type": "code",
   "execution_count": 2,
   "metadata": {},
   "outputs": [
    {
     "data": {
      "text/plain": [
       "6"
      ]
     },
     "execution_count": 2,
     "metadata": {},
     "output_type": "execute_result"
    }
   ],
   "source": [
    "a.sum().item()"
   ]
  },
  {
   "cell_type": "code",
   "execution_count": 3,
   "metadata": {},
   "outputs": [
    {
     "data": {
      "text/plain": [
       "tensor([[1],\n",
       "        [2],\n",
       "        [3]])"
      ]
     },
     "execution_count": 3,
     "metadata": {},
     "output_type": "execute_result"
    }
   ],
   "source": [
    "a.reshape(-1,1)"
   ]
  },
  {
   "cell_type": "code",
   "execution_count": 4,
   "metadata": {},
   "outputs": [
    {
     "data": {
      "text/plain": [
       "tensor([-1.,  1., 12.])"
      ]
     },
     "execution_count": 4,
     "metadata": {},
     "output_type": "execute_result"
    }
   ],
   "source": [
    "b = torch.tensor([-1, 0.5, 4])\n",
    "a * b"
   ]
  },
  {
   "cell_type": "markdown",
   "metadata": {},
   "source": [
    "# Part 4"
   ]
  },
  {
   "cell_type": "code",
   "execution_count": 6,
   "metadata": {},
   "outputs": [
    {
     "data": {
      "image/png": "[encoded data removed]",
      "text/plain": [
       "<Figure size 432x288 with 1 Axes>"
      ]
     },
     "metadata": {
      "needs_background": "light"
     },
     "output_type": "display_data"
    }
   ],
   "source": [
    "import numpy as np\n",
    "import matplotlib.pyplot as plt\n",
    "from torch import tensor\n",
    "\n",
    "def plot_func(func, color=\"red\"):\n",
    "    x_vals = np.arange(-3, 3, 0.1)\n",
    "    y_vals = func(x_vals)\n",
    "    plt.plot(x_vals, y_vals, color)\n",
    "\n",
    "def plot_gradient(x, y, slope):\n",
    "    x, y, slope = map(float, (x, y, slope))\n",
    "    dx = 3\n",
    "    dy = dx*slope\n",
    "    plt.arrow(x-dx/2, y-dy/2, dx, dy, linewidth=2)\n",
    "\n",
    "def f1(x):\n",
    "    y = 3 - x + (x/2)**2\n",
    "    return y\n",
    "    \n",
    "def f2(x):\n",
    "    y = 3 - (x/2) ** 2\n",
    "    return y\n",
    "\n",
    "x = tensor(-1.0).requires_grad_()\n",
    "y1 = f1(x)\n",
    "y2 = f2(x)\n",
    "\n",
    "y1.backward()\n",
    "f1_grad = x.grad\n",
    "plot_gradient(x, y1, f1_grad)\n",
    "\n",
    "x.grad.zero_()\n",
    "\n",
    "y2.backward()\n",
    "f2_grad = x.grad\n",
    "plot_gradient(x, y2, f2_grad)\n",
    "\n",
    "plot_func(f1)\n",
    "plot_func(f2, \"blue\")"
   ]
  },
  {
   "cell_type": "code",
   "execution_count": null,
   "metadata": {},
   "outputs": [],
   "source": []
  }
 ],
 "metadata": {
  "kernelspec": {
   "display_name": "Python 3",
   "language": "python",
   "name": "python3"
  },
  "language_info": {
   "codemirror_mode": {
    "name": "ipython",
    "version": 3
   },
   "file_extension": ".py",
   "mimetype": "text/x-python",
   "name": "python",
   "nbconvert_exporter": "python",
   "pygments_lexer": "ipython3",
   "version": "3.6.9"
  }
 },
 "nbformat": 4,
 "nbformat_minor": 4
}
