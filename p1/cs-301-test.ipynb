{
 "cells": [
  {
   "cell_type": "code",
   "execution_count": 1,
   "metadata": {},
   "outputs": [],
   "source": [
    "# project: p1\n",
    "# submitter: tjones25\n",
    "# partner: none"
   ]
  },
  {
   "cell_type": "markdown",
   "metadata": {},
   "source": [
    "# Part 1"
   ]
  },
  {
   "cell_type": "code",
   "execution_count": 2,
   "metadata": {},
   "outputs": [],
   "source": [
    "import matplotlib\n",
    "import os\n",
    "from matplotlib import pyplot as plt\n",
    "import pandas as pd\n",
    "from pandas import Series, DataFrame"
   ]
  },
  {
   "cell_type": "code",
   "execution_count": 3,
   "metadata": {},
   "outputs": [
    {
     "data": {
      "text/plain": [
       "8"
      ]
     },
     "execution_count": 3,
     "metadata": {},
     "output_type": "execute_result"
    }
   ],
   "source": [
    "#q1\n",
    "\n",
    "#general git setup given by professor\n",
    "from git import Repo\n",
    "dirname = \"repo\"\n",
    "repo = Repo(dirname)\n",
    "repo.git.checkout(\"master\")\n",
    "\n",
    "#takes commit items and places them in list, then counts the number\n",
    "list_of_commits = list(repo.iter_commits('master'))\n",
    "len(list_of_commits)"
   ]
  },
  {
   "cell_type": "code",
   "execution_count": 4,
   "metadata": {},
   "outputs": [
    {
     "data": {
      "text/plain": [
       "{'Steve': 3, 'Ada': 3, 'Linus': 2}"
      ]
     },
     "execution_count": 4,
     "metadata": {},
     "output_type": "execute_result"
    }
   ],
   "source": [
    "#q2\n",
    "\n",
    "#creates a list of author names\n",
    "list_of_authors = []\n",
    "for i in range(len(list_of_commits)):\n",
    "    list_of_authors.append(list_of_commits[i].author.name)\n",
    "    \n",
    "#this code was taken from\n",
    "#https://stackoverflow.com/questions/3496518/using-a-dictionary-to-count-the-items-in-a-list\n",
    "#sorts and counts the authors into created dict\n",
    "authors = dict()\n",
    "for i in list_of_authors:\n",
    "    authors[i] = authors.get(i, 0) + 1\n",
    "authors"
   ]
  },
  {
   "cell_type": "code",
   "execution_count": 5,
   "metadata": {},
   "outputs": [
    {
     "data": {
      "text/plain": [
       "<matplotlib.axes._subplots.AxesSubplot at 0x7f6c4b586518>"
      ]
     },
     "execution_count": 5,
     "metadata": {},
     "output_type": "execute_result"
    },
    {
     "data": {
      "image/png": "[encoded data removed]",
      "text/plain": [
       "<Figure size 216x216 with 1 Axes>"
      ]
     },
     "metadata": {
      "needs_background": "light"
     },
     "output_type": "display_data"
    }
   ],
   "source": [
    "#q3\n",
    "\n",
    "#need to turn dict into Series for plot to work\n",
    "a = Series(authors)\n",
    "matplotlib.rcParams[\"font.size\"] = 18\n",
    "\n",
    "#base code given by professor\n",
    "def get_ax():\n",
    "    ax = plt.subplot()\n",
    "    ax.spines[\"top\"].set_visible(False)\n",
    "    ax.spines[\"right\"].set_visible(False)\n",
    "    return ax\n",
    "\n",
    "#example given by professor\n",
    "ax = get_ax()\n",
    "ax.set_ylabel(\"Commits\")\n",
    "a.plot.bar(figsize=(3,3), color=\"0\")"
   ]
  },
  {
   "cell_type": "code",
   "execution_count": 6,
   "metadata": {},
   "outputs": [
    {
     "data": {
      "text/plain": [
       "{'Steve'}"
      ]
     },
     "execution_count": 6,
     "metadata": {},
     "output_type": "execute_result"
    }
   ],
   "source": [
    "#q4\n",
    "\n",
    "from datetime import datetime\n",
    "\n",
    "weekenders = set()\n",
    "#iterates through commits, used datetime to find the day it as commited, then adds the author name if it was sat or sun\n",
    "for i in list_of_commits:\n",
    "    dt = datetime.fromtimestamp(i.authored_date)\n",
    "    day = datetime.weekday(dt)\n",
    "    if day > 5:\n",
    "        weekenders.add(i.author.name)\n",
    "weekenders"
   ]
  },
  {
   "cell_type": "code",
   "execution_count": 7,
   "metadata": {},
   "outputs": [
    {
     "data": {
      "text/html": [
       "<div>\n",
       "<style scoped>\n",
       "    .dataframe tbody tr th:only-of-type {\n",
       "        vertical-align: middle;\n",
       "    }\n",
       "\n",
       "    .dataframe tbody tr th {\n",
       "        vertical-align: top;\n",
       "    }\n",
       "\n",
       "    .dataframe thead th {\n",
       "        text-align: right;\n",
       "    }\n",
       "</style>\n",
       "<table border=\"1\" class=\"dataframe\">\n",
       "  <thead>\n",
       "    <tr style=\"text-align: right;\">\n",
       "      <th></th>\n",
       "      <th>days</th>\n",
       "      <th>lines</th>\n",
       "    </tr>\n",
       "  </thead>\n",
       "  <tbody>\n",
       "    <tr>\n",
       "      <th>0</th>\n",
       "      <td>0.000000</td>\n",
       "      <td>21</td>\n",
       "    </tr>\n",
       "    <tr>\n",
       "      <th>1</th>\n",
       "      <td>1.005046</td>\n",
       "      <td>35</td>\n",
       "    </tr>\n",
       "    <tr>\n",
       "      <th>2</th>\n",
       "      <td>3.880046</td>\n",
       "      <td>35</td>\n",
       "    </tr>\n",
       "    <tr>\n",
       "      <th>3</th>\n",
       "      <td>4.087963</td>\n",
       "      <td>39</td>\n",
       "    </tr>\n",
       "    <tr>\n",
       "      <th>4</th>\n",
       "      <td>5.921296</td>\n",
       "      <td>40</td>\n",
       "    </tr>\n",
       "    <tr>\n",
       "      <th>5</th>\n",
       "      <td>6.962963</td>\n",
       "      <td>40</td>\n",
       "    </tr>\n",
       "    <tr>\n",
       "      <th>6</th>\n",
       "      <td>9.171296</td>\n",
       "      <td>40</td>\n",
       "    </tr>\n",
       "    <tr>\n",
       "      <th>7</th>\n",
       "      <td>11.046296</td>\n",
       "      <td>43</td>\n",
       "    </tr>\n",
       "  </tbody>\n",
       "</table>\n",
       "</div>"
      ],
      "text/plain": [
       "        days  lines\n",
       "0   0.000000     21\n",
       "1   1.005046     35\n",
       "2   3.880046     35\n",
       "3   4.087963     39\n",
       "4   5.921296     40\n",
       "5   6.962963     40\n",
       "6   9.171296     40\n",
       "7  11.046296     43"
      ]
     },
     "execution_count": 7,
     "metadata": {},
     "output_type": "execute_result"
    }
   ],
   "source": [
    "#q5\n",
    "\n",
    "#creates dict, opens commit version of wc.py, the ncounts lines and adds relevant data\n",
    "size = dict()\n",
    "for i in list_of_commits:\n",
    "    \n",
    "    repo.git.checkout(i)\n",
    "\n",
    "    count = 0\n",
    "    with open(os.path.join(\"repo\", \"wc.py\"), 'r') as f:\n",
    "        for line in f:\n",
    "            count +=1\n",
    "    \n",
    "    days = i.authored_date - list_of_commits[-1].authored_date \n",
    "    \n",
    "    size[days/(60*60*24)] = count\n",
    "\n",
    "data = list(reversed(list(size.items())))\n",
    "df = DataFrame(data, columns = ['days','lines'])\n",
    "df"
   ]
  },
  {
   "cell_type": "code",
   "execution_count": 8,
   "metadata": {},
   "outputs": [
    {
     "data": {
      "text/plain": [
       "(0.0, 11.598611111111111)"
      ]
     },
     "execution_count": 8,
     "metadata": {},
     "output_type": "execute_result"
    },
    {
     "data": {
      "image/png": "[encoded data removed]",
      "text/plain": [
       "<Figure size 432x288 with 1 Axes>"
      ]
     },
     "metadata": {
      "needs_background": "light"
     },
     "output_type": "display_data"
    }
   ],
   "source": [
    "#q6\n",
    "\n",
    "s = Series(size)\n",
    "line = s.plot.line(color='r')\n",
    "matplotlib.rcParams[\"font.size\"] = 16\n",
    "line.spines[\"top\"].set_visible(False)\n",
    "line.spines[\"right\"].set_visible(False)\n",
    "line.set_ylabel(\"Lines of Code in Repo\")\n",
    "line.set_xlabel(\"Days Since Creation\")\n",
    "line.set_ylim(bottom=0)\n",
    "line.set_xlim(0)"
   ]
  },
  {
   "cell_type": "markdown",
   "metadata": {},
   "source": [
    "# Part 2"
   ]
  },
  {
   "cell_type": "code",
   "execution_count": 9,
   "metadata": {},
   "outputs": [],
   "source": [
    "import json\n",
    "import subprocess\n",
    "\n",
    "def run_wc(body, commit=None):\n",
    "    if commit == None:\n",
    "        last = list_of_commits[0]\n",
    "        repo.git.checkout(last)\n",
    "    else:\n",
    "        repo.git.checkout(commit)\n",
    "        \n",
    "    with open(os.path.join(\"repo\", \"test.txt\"), 'w') as f:\n",
    "        f.write(body)\n",
    "    \n",
    "    try:\n",
    "        arg = 'python3 ' + str(os.path.join(\"repo\", \"wc.py\")) + ' ' + str(os.path.join(\"repo\", \"test.txt\")) + ' ' + 'ALL'\n",
    "        output = subprocess.check_output(arg, shell=True, universal_newlines=True)\n",
    "        \n",
    "        with open(os.path.join(\"repo\", \"wc.json\"), 'w') as f:\n",
    "            f.write(output)\n",
    "        \n",
    "        return json.loads(output)\n",
    "    except:\n",
    "        output = 'None'\n",
    "        \n",
    "        with open(os.path.join(\"repo\", \"wc.json\"), 'w') as f:\n",
    "            f.write(output)\n",
    "        \n",
    "        return output\n",
    "    \n",
    "    \n",
    "    \n",
    "# test inputs to exercise wc.py\n",
    "\n",
    "# expected result: {'X': 1, 'Y': 1, 'Z': 1}\n",
    "test1 = \"\"\"X Y Z\"\"\"\n",
    "\n",
    "# expected result: \n",
    "test2 = \"\"\"A B\n",
    "A C\n",
    "\"\"\"\n",
    "\n",
    "# expected result: {'A': 2, 'B': 1, 'C': 1}\n",
    "test3 = \"\"\"A B\n",
    "a c\n",
    "\"\"\""
   ]
  },
  {
   "cell_type": "code",
   "execution_count": 10,
   "metadata": {},
   "outputs": [
    {
     "data": {
      "text/plain": [
       "{'X': 1, 'Y': 1, 'Z': 1}"
      ]
     },
     "execution_count": 10,
     "metadata": {},
     "output_type": "execute_result"
    }
   ],
   "source": [
    "#q7\n",
    "\n",
    "run_wc(test1)"
   ]
  },
  {
   "cell_type": "code",
   "execution_count": 11,
   "metadata": {},
   "outputs": [
    {
     "data": {
      "text/plain": [
       "{'A': 2, 'B': 1, 'C': 1}"
      ]
     },
     "execution_count": 11,
     "metadata": {},
     "output_type": "execute_result"
    }
   ],
   "source": [
    "#q8\n",
    "run_wc(test2)"
   ]
  },
  {
   "cell_type": "code",
   "execution_count": 12,
   "metadata": {},
   "outputs": [],
   "source": [
    "def test_table(body, expected):\n",
    "    final = DataFrame({'commit':[], 'msg20':[], 'author':[], 'pass':[]})\n",
    "    rev = list_of_commits[::-1]\n",
    "    for i in rev:\n",
    "        author = i.author.name\n",
    "        commit = str(i)\n",
    "        msg = i.message\n",
    "        if len(msg) > 20:\n",
    "            msg = msg[0:20]\n",
    "        \n",
    "        act = run_wc(body, i)\n",
    "        if act == expected:\n",
    "            end = 'True'\n",
    "        else:\n",
    "            end = 'False'\n",
    "        \n",
    "        final = final.append(DataFrame({'commit':[commit], 'msg20':[msg.rstrip()], 'author':[author], 'pass':[end]}), ignore_index=True)\n",
    "\n",
    "    return final"
   ]
  },
  {
   "cell_type": "code",
   "execution_count": 13,
   "metadata": {},
   "outputs": [
    {
     "data": {
      "text/html": [
       "<div>\n",
       "<style scoped>\n",
       "    .dataframe tbody tr th:only-of-type {\n",
       "        vertical-align: middle;\n",
       "    }\n",
       "\n",
       "    .dataframe tbody tr th {\n",
       "        vertical-align: top;\n",
       "    }\n",
       "\n",
       "    .dataframe thead th {\n",
       "        text-align: right;\n",
       "    }\n",
       "</style>\n",
       "<table border=\"1\" class=\"dataframe\">\n",
       "  <thead>\n",
       "    <tr style=\"text-align: right;\">\n",
       "      <th></th>\n",
       "      <th>commit</th>\n",
       "      <th>msg20</th>\n",
       "      <th>author</th>\n",
       "      <th>pass</th>\n",
       "    </tr>\n",
       "  </thead>\n",
       "  <tbody>\n",
       "    <tr>\n",
       "      <th>0</th>\n",
       "      <td>6d7beafb8e79b7a92fed8e67673a33bb7f607dbe</td>\n",
       "      <td>count a specific wor</td>\n",
       "      <td>Ada</td>\n",
       "      <td>False</td>\n",
       "    </tr>\n",
       "    <tr>\n",
       "      <th>1</th>\n",
       "      <td>b0df6dbe111f9e28fc3a9c9b841cde5c20c365f9</td>\n",
       "      <td>support wildcards</td>\n",
       "      <td>Linus</td>\n",
       "      <td>True</td>\n",
       "    </tr>\n",
       "    <tr>\n",
       "      <th>2</th>\n",
       "      <td>761627a3ad9ee681f27211326e9149f01764ceee</td>\n",
       "      <td>bugfix</td>\n",
       "      <td>Linus</td>\n",
       "      <td>True</td>\n",
       "    </tr>\n",
       "    <tr>\n",
       "      <th>3</th>\n",
       "      <td>6f5ca9327e986315ffcacddce5d9d6195c0913b7</td>\n",
       "      <td>ignore case, usage l</td>\n",
       "      <td>Ada</td>\n",
       "      <td>True</td>\n",
       "    </tr>\n",
       "    <tr>\n",
       "      <th>4</th>\n",
       "      <td>f37e610ce055a3d894baac2d9449e6eb77c72320</td>\n",
       "      <td>do not repeatedly re</td>\n",
       "      <td>Steve</td>\n",
       "      <td>True</td>\n",
       "    </tr>\n",
       "    <tr>\n",
       "      <th>5</th>\n",
       "      <td>c10b5a6cb4f06c96f6f221df2d5ec33af767d5c5</td>\n",
       "      <td>optimize: only compu</td>\n",
       "      <td>Ada</td>\n",
       "      <td>True</td>\n",
       "    </tr>\n",
       "    <tr>\n",
       "      <th>6</th>\n",
       "      <td>f637df3f45bc389e1035cc3aadcf5d81a55f0dc4</td>\n",
       "      <td>only make one pass o</td>\n",
       "      <td>Steve</td>\n",
       "      <td>False</td>\n",
       "    </tr>\n",
       "    <tr>\n",
       "      <th>7</th>\n",
       "      <td>4e4128313b8d5b5e5d04f2e8e585f64f7c5831a4</td>\n",
       "      <td>only make one pass o</td>\n",
       "      <td>Steve</td>\n",
       "      <td>True</td>\n",
       "    </tr>\n",
       "  </tbody>\n",
       "</table>\n",
       "</div>"
      ],
      "text/plain": [
       "                                     commit                 msg20 author  \\\n",
       "0  6d7beafb8e79b7a92fed8e67673a33bb7f607dbe  count a specific wor    Ada   \n",
       "1  b0df6dbe111f9e28fc3a9c9b841cde5c20c365f9     support wildcards  Linus   \n",
       "2  761627a3ad9ee681f27211326e9149f01764ceee                bugfix  Linus   \n",
       "3  6f5ca9327e986315ffcacddce5d9d6195c0913b7  ignore case, usage l    Ada   \n",
       "4  f37e610ce055a3d894baac2d9449e6eb77c72320  do not repeatedly re  Steve   \n",
       "5  c10b5a6cb4f06c96f6f221df2d5ec33af767d5c5  optimize: only compu    Ada   \n",
       "6  f637df3f45bc389e1035cc3aadcf5d81a55f0dc4  only make one pass o  Steve   \n",
       "7  4e4128313b8d5b5e5d04f2e8e585f64f7c5831a4  only make one pass o  Steve   \n",
       "\n",
       "    pass  \n",
       "0  False  \n",
       "1   True  \n",
       "2   True  \n",
       "3   True  \n",
       "4   True  \n",
       "5   True  \n",
       "6  False  \n",
       "7   True  "
      ]
     },
     "execution_count": 13,
     "metadata": {},
     "output_type": "execute_result"
    }
   ],
   "source": [
    "#q9\n",
    "\n",
    "test_table(test1, {'X': 1, 'Y': 1, 'Z': 1})"
   ]
  },
  {
   "cell_type": "code",
   "execution_count": 14,
   "metadata": {},
   "outputs": [
    {
     "data": {
      "text/html": [
       "<div>\n",
       "<style scoped>\n",
       "    .dataframe tbody tr th:only-of-type {\n",
       "        vertical-align: middle;\n",
       "    }\n",
       "\n",
       "    .dataframe tbody tr th {\n",
       "        vertical-align: top;\n",
       "    }\n",
       "\n",
       "    .dataframe thead th {\n",
       "        text-align: right;\n",
       "    }\n",
       "</style>\n",
       "<table border=\"1\" class=\"dataframe\">\n",
       "  <thead>\n",
       "    <tr style=\"text-align: right;\">\n",
       "      <th></th>\n",
       "      <th>commit</th>\n",
       "      <th>msg20</th>\n",
       "      <th>author</th>\n",
       "      <th>pass</th>\n",
       "    </tr>\n",
       "  </thead>\n",
       "  <tbody>\n",
       "    <tr>\n",
       "      <th>0</th>\n",
       "      <td>6d7beafb8e79b7a92fed8e67673a33bb7f607dbe</td>\n",
       "      <td>count a specific wor</td>\n",
       "      <td>Ada</td>\n",
       "      <td>False</td>\n",
       "    </tr>\n",
       "    <tr>\n",
       "      <th>1</th>\n",
       "      <td>b0df6dbe111f9e28fc3a9c9b841cde5c20c365f9</td>\n",
       "      <td>support wildcards</td>\n",
       "      <td>Linus</td>\n",
       "      <td>False</td>\n",
       "    </tr>\n",
       "    <tr>\n",
       "      <th>2</th>\n",
       "      <td>761627a3ad9ee681f27211326e9149f01764ceee</td>\n",
       "      <td>bugfix</td>\n",
       "      <td>Linus</td>\n",
       "      <td>True</td>\n",
       "    </tr>\n",
       "    <tr>\n",
       "      <th>3</th>\n",
       "      <td>6f5ca9327e986315ffcacddce5d9d6195c0913b7</td>\n",
       "      <td>ignore case, usage l</td>\n",
       "      <td>Ada</td>\n",
       "      <td>True</td>\n",
       "    </tr>\n",
       "    <tr>\n",
       "      <th>4</th>\n",
       "      <td>f37e610ce055a3d894baac2d9449e6eb77c72320</td>\n",
       "      <td>do not repeatedly re</td>\n",
       "      <td>Steve</td>\n",
       "      <td>True</td>\n",
       "    </tr>\n",
       "    <tr>\n",
       "      <th>5</th>\n",
       "      <td>c10b5a6cb4f06c96f6f221df2d5ec33af767d5c5</td>\n",
       "      <td>optimize: only compu</td>\n",
       "      <td>Ada</td>\n",
       "      <td>True</td>\n",
       "    </tr>\n",
       "    <tr>\n",
       "      <th>6</th>\n",
       "      <td>f637df3f45bc389e1035cc3aadcf5d81a55f0dc4</td>\n",
       "      <td>only make one pass o</td>\n",
       "      <td>Steve</td>\n",
       "      <td>False</td>\n",
       "    </tr>\n",
       "    <tr>\n",
       "      <th>7</th>\n",
       "      <td>4e4128313b8d5b5e5d04f2e8e585f64f7c5831a4</td>\n",
       "      <td>only make one pass o</td>\n",
       "      <td>Steve</td>\n",
       "      <td>True</td>\n",
       "    </tr>\n",
       "  </tbody>\n",
       "</table>\n",
       "</div>"
      ],
      "text/plain": [
       "                                     commit                 msg20 author  \\\n",
       "0  6d7beafb8e79b7a92fed8e67673a33bb7f607dbe  count a specific wor    Ada   \n",
       "1  b0df6dbe111f9e28fc3a9c9b841cde5c20c365f9     support wildcards  Linus   \n",
       "2  761627a3ad9ee681f27211326e9149f01764ceee                bugfix  Linus   \n",
       "3  6f5ca9327e986315ffcacddce5d9d6195c0913b7  ignore case, usage l    Ada   \n",
       "4  f37e610ce055a3d894baac2d9449e6eb77c72320  do not repeatedly re  Steve   \n",
       "5  c10b5a6cb4f06c96f6f221df2d5ec33af767d5c5  optimize: only compu    Ada   \n",
       "6  f637df3f45bc389e1035cc3aadcf5d81a55f0dc4  only make one pass o  Steve   \n",
       "7  4e4128313b8d5b5e5d04f2e8e585f64f7c5831a4  only make one pass o  Steve   \n",
       "\n",
       "    pass  \n",
       "0  False  \n",
       "1  False  \n",
       "2   True  \n",
       "3   True  \n",
       "4   True  \n",
       "5   True  \n",
       "6  False  \n",
       "7   True  "
      ]
     },
     "execution_count": 14,
     "metadata": {},
     "output_type": "execute_result"
    }
   ],
   "source": [
    "#q10\n",
    "\n",
    "test_table(test2, {'A': 2, 'B': 1, 'C': 1})"
   ]
  },
  {
   "cell_type": "code",
   "execution_count": 15,
   "metadata": {},
   "outputs": [
    {
     "data": {
      "text/html": [
       "<div>\n",
       "<style scoped>\n",
       "    .dataframe tbody tr th:only-of-type {\n",
       "        vertical-align: middle;\n",
       "    }\n",
       "\n",
       "    .dataframe tbody tr th {\n",
       "        vertical-align: top;\n",
       "    }\n",
       "\n",
       "    .dataframe thead th {\n",
       "        text-align: right;\n",
       "    }\n",
       "</style>\n",
       "<table border=\"1\" class=\"dataframe\">\n",
       "  <thead>\n",
       "    <tr style=\"text-align: right;\">\n",
       "      <th></th>\n",
       "      <th>commit</th>\n",
       "      <th>msg20</th>\n",
       "      <th>author</th>\n",
       "      <th>pass</th>\n",
       "    </tr>\n",
       "  </thead>\n",
       "  <tbody>\n",
       "    <tr>\n",
       "      <th>0</th>\n",
       "      <td>6d7beafb8e79b7a92fed8e67673a33bb7f607dbe</td>\n",
       "      <td>count a specific wor</td>\n",
       "      <td>Ada</td>\n",
       "      <td>False</td>\n",
       "    </tr>\n",
       "    <tr>\n",
       "      <th>1</th>\n",
       "      <td>b0df6dbe111f9e28fc3a9c9b841cde5c20c365f9</td>\n",
       "      <td>support wildcards</td>\n",
       "      <td>Linus</td>\n",
       "      <td>False</td>\n",
       "    </tr>\n",
       "    <tr>\n",
       "      <th>2</th>\n",
       "      <td>761627a3ad9ee681f27211326e9149f01764ceee</td>\n",
       "      <td>bugfix</td>\n",
       "      <td>Linus</td>\n",
       "      <td>False</td>\n",
       "    </tr>\n",
       "    <tr>\n",
       "      <th>3</th>\n",
       "      <td>6f5ca9327e986315ffcacddce5d9d6195c0913b7</td>\n",
       "      <td>ignore case, usage l</td>\n",
       "      <td>Ada</td>\n",
       "      <td>True</td>\n",
       "    </tr>\n",
       "    <tr>\n",
       "      <th>4</th>\n",
       "      <td>f37e610ce055a3d894baac2d9449e6eb77c72320</td>\n",
       "      <td>do not repeatedly re</td>\n",
       "      <td>Steve</td>\n",
       "      <td>True</td>\n",
       "    </tr>\n",
       "    <tr>\n",
       "      <th>5</th>\n",
       "      <td>c10b5a6cb4f06c96f6f221df2d5ec33af767d5c5</td>\n",
       "      <td>optimize: only compu</td>\n",
       "      <td>Ada</td>\n",
       "      <td>True</td>\n",
       "    </tr>\n",
       "    <tr>\n",
       "      <th>6</th>\n",
       "      <td>f637df3f45bc389e1035cc3aadcf5d81a55f0dc4</td>\n",
       "      <td>only make one pass o</td>\n",
       "      <td>Steve</td>\n",
       "      <td>False</td>\n",
       "    </tr>\n",
       "    <tr>\n",
       "      <th>7</th>\n",
       "      <td>4e4128313b8d5b5e5d04f2e8e585f64f7c5831a4</td>\n",
       "      <td>only make one pass o</td>\n",
       "      <td>Steve</td>\n",
       "      <td>True</td>\n",
       "    </tr>\n",
       "  </tbody>\n",
       "</table>\n",
       "</div>"
      ],
      "text/plain": [
       "                                     commit                 msg20 author  \\\n",
       "0  6d7beafb8e79b7a92fed8e67673a33bb7f607dbe  count a specific wor    Ada   \n",
       "1  b0df6dbe111f9e28fc3a9c9b841cde5c20c365f9     support wildcards  Linus   \n",
       "2  761627a3ad9ee681f27211326e9149f01764ceee                bugfix  Linus   \n",
       "3  6f5ca9327e986315ffcacddce5d9d6195c0913b7  ignore case, usage l    Ada   \n",
       "4  f37e610ce055a3d894baac2d9449e6eb77c72320  do not repeatedly re  Steve   \n",
       "5  c10b5a6cb4f06c96f6f221df2d5ec33af767d5c5  optimize: only compu    Ada   \n",
       "6  f637df3f45bc389e1035cc3aadcf5d81a55f0dc4  only make one pass o  Steve   \n",
       "7  4e4128313b8d5b5e5d04f2e8e585f64f7c5831a4  only make one pass o  Steve   \n",
       "\n",
       "    pass  \n",
       "0  False  \n",
       "1  False  \n",
       "2  False  \n",
       "3   True  \n",
       "4   True  \n",
       "5   True  \n",
       "6  False  \n",
       "7   True  "
      ]
     },
     "execution_count": 15,
     "metadata": {},
     "output_type": "execute_result"
    }
   ],
   "source": [
    "#q11\n",
    "\n",
    "test_table(test3, {'A': 2, 'B': 1, 'C': 1})"
   ]
  },
  {
   "cell_type": "markdown",
   "metadata": {},
   "source": [
    "Test 3 is most usful when testing wc.py since it includes the most varience, with both capital and lowercase letters as well as a new line. This provides more chances for the method to show bugs. "
   ]
  },
  {
   "cell_type": "markdown",
   "metadata": {},
   "source": [
    "# Part 3"
   ]
  },
  {
   "cell_type": "code",
   "execution_count": 16,
   "metadata": {},
   "outputs": [],
   "source": [
    "import random\n",
    "import time\n",
    "\n",
    "def time_run_sec(uniq_words, total_words, word_size=6, commit=None):\n",
    "    string = 'abcdefghijklmnopqrstuvwxyz'\n",
    "    uniq = list()\n",
    "    for i in range(uniq_words):\n",
    "        word = ''\n",
    "        for j in range(word_size):\n",
    "            letter = random.choice(string)\n",
    "            word = word + letter\n",
    "        word = word + (' \\n')\n",
    "        uniq.append(word)\n",
    "    \n",
    "    final = ''\n",
    "    for i in range(total_words):\n",
    "        final = final + random.choice(uniq)\n",
    "        \n",
    "    with open(os.path.join(\"repo\", \"test.txt\"), 'w') as f:\n",
    "        f.write(final)    \n",
    "    \n",
    "    if commit == None:\n",
    "        last = list_of_commits[0]\n",
    "        repo.git.checkout(last)\n",
    "        \n",
    "    else:\n",
    "        repo.git.checkout(commit)\n",
    "        \n",
    "    t0 = time.time()   \n",
    "    arg = 'python3 ' + str(os.path.join(\"repo\", \"wc.py\")) + ' ' + str(os.path.join(\"repo\", \"test.txt\")) + ' ' + 'ALL'\n",
    "    output = subprocess.check_output(arg, shell=True, universal_newlines=True)\n",
    "    t1 = time.time()\n",
    "    \n",
    "    return(t1-t0)\n",
    "\n",
    "def execute_times(uniq_words, total_words):\n",
    "    exc_times = dict()\n",
    "    for i in versions:\n",
    "        time = time_run_sec(uniq_words, total_words, commit=versions[i])\n",
    "        exc_times[i] = time\n",
    "    return exc_times\n",
    "\n",
    "versions = {\n",
    "    \"v3-single-pass\": \"4e4128313b8d5b5e5d04f2e8e585f64f7c5831a4\",\n",
    "    \"v2-pass-per-uniq\": \"c10b5a6cb4f06c96f6f221df2d5ec33af767d5c5\",\n",
    "    \"v1-open-once\": \"f37e610ce055a3d894baac2d9449e6eb77c72320\",\n",
    "    \"v0-baseline\": \"6f5ca9327e986315ffcacddce5d9d6195c0913b7\",\n",
    "}"
   ]
  },
  {
   "cell_type": "code",
   "execution_count": 17,
   "metadata": {},
   "outputs": [
    {
     "data": {
      "text/plain": [
       "<matplotlib.axes._subplots.AxesSubplot at 0x7f6c48f7fa20>"
      ]
     },
     "execution_count": 17,
     "metadata": {},
     "output_type": "execute_result"
    },
    {
     "data": {
      "image/png": "[encoded data removed]",
      "text/plain": [
       "<Figure size 288x144 with 1 Axes>"
      ]
     },
     "metadata": {
      "needs_background": "light"
     },
     "output_type": "display_data"
    }
   ],
   "source": [
    "#q12\n",
    "\n",
    "data = execute_times(100, 5000)\n",
    "d = Series(data)\n",
    "d = d.apply(lambda x: x*1000)\n",
    "bar = d.plot.barh(figsize=(4,2), color = 'black')\n",
    "bar.spines[\"top\"].set_visible(False)\n",
    "bar.spines[\"right\"].set_visible(False)\n",
    "bar.set_xscale('log')\n",
    "bar.set_xticks([10**1, 10**2, 10**3])\n",
    "bar.set_xlabel('Exec Time (ms)')\n",
    "matplotlib.rcParams[\"font.size\"] = 16\n",
    "bar"
   ]
  },
  {
   "cell_type": "code",
   "execution_count": 18,
   "metadata": {},
   "outputs": [
    {
     "data": {
      "text/plain": [
       "<matplotlib.axes._subplots.AxesSubplot at 0x7f6c48f22e10>"
      ]
     },
     "execution_count": 18,
     "metadata": {},
     "output_type": "execute_result"
    },
    {
     "data": {
      "image/png": "[encoded data removed]",
      "text/plain": [
       "<Figure size 288x144 with 1 Axes>"
      ]
     },
     "metadata": {
      "needs_background": "light"
     },
     "output_type": "display_data"
    }
   ],
   "source": [
    "#q13\n",
    "\n",
    "data = execute_times(1, 5000)\n",
    "d = Series(data)\n",
    "d = d.apply(lambda x: x*1000)\n",
    "bar = d.plot.barh(figsize=(4,2), color = 'black')\n",
    "bar.spines[\"top\"].set_visible(False)\n",
    "bar.spines[\"right\"].set_visible(False)\n",
    "bar.set_xscale('log')\n",
    "bar.set_xticks([10**1, 10**2, 10**3])\n",
    "bar.set_xlabel('Exec Time (ms)')\n",
    "bar"
   ]
  },
  {
   "cell_type": "markdown",
   "metadata": {},
   "source": [
    "It could be that the reason v3 works better is found in it's name, single pass. In the case where we have lots of unique words, a single pass would be faster than looping, but in the case of only 1 unique word, v2 is just about similar to v3."
   ]
  },
  {
   "cell_type": "markdown",
   "metadata": {},
   "source": [
    "# Part 4"
   ]
  },
  {
   "cell_type": "code",
   "execution_count": 19,
   "metadata": {},
   "outputs": [
    {
     "data": {
      "text/html": [
       "<div>\n",
       "<style scoped>\n",
       "    .dataframe tbody tr th:only-of-type {\n",
       "        vertical-align: middle;\n",
       "    }\n",
       "\n",
       "    .dataframe tbody tr th {\n",
       "        vertical-align: top;\n",
       "    }\n",
       "\n",
       "    .dataframe thead th {\n",
       "        text-align: right;\n",
       "    }\n",
       "</style>\n",
       "<table border=\"1\" class=\"dataframe\">\n",
       "  <thead>\n",
       "    <tr style=\"text-align: right;\">\n",
       "      <th></th>\n",
       "      <th>10</th>\n",
       "      <th>5</th>\n",
       "      <th>1</th>\n",
       "    </tr>\n",
       "  </thead>\n",
       "  <tbody>\n",
       "    <tr>\n",
       "      <th>1000</th>\n",
       "      <td>0.040193</td>\n",
       "      <td>0.039265</td>\n",
       "      <td>0.039989</td>\n",
       "    </tr>\n",
       "    <tr>\n",
       "      <th>2000</th>\n",
       "      <td>0.040601</td>\n",
       "      <td>0.039247</td>\n",
       "      <td>0.039734</td>\n",
       "    </tr>\n",
       "    <tr>\n",
       "      <th>5000</th>\n",
       "      <td>0.042246</td>\n",
       "      <td>0.041939</td>\n",
       "      <td>0.042034</td>\n",
       "    </tr>\n",
       "    <tr>\n",
       "      <th>10000</th>\n",
       "      <td>0.045550</td>\n",
       "      <td>0.044662</td>\n",
       "      <td>0.044122</td>\n",
       "    </tr>\n",
       "  </tbody>\n",
       "</table>\n",
       "</div>"
      ],
      "text/plain": [
       "             10        5         1 \n",
       "1000   0.040193  0.039265  0.039989\n",
       "2000   0.040601  0.039247  0.039734\n",
       "5000   0.042246  0.041939  0.042034\n",
       "10000  0.045550  0.044662  0.044122"
      ]
     },
     "execution_count": 19,
     "metadata": {},
     "output_type": "execute_result"
    }
   ],
   "source": [
    "def times_framed(com=None):\n",
    "    uniq_list = [10, 5, 1]\n",
    "    total_list = [1000, 2000, 5000, 10000]\n",
    "    df = DataFrame(columns = [10, 5, 1])\n",
    "    for i in total_list:\n",
    "        for j in uniq_list:\n",
    "            t = time_run_sec(j, i, commit=com)\n",
    "            if j == 10:\n",
    "                idx1 = t\n",
    "            if j == 5:\n",
    "                idx2 = t\n",
    "            if j == 1:\n",
    "                idx3 = t\n",
    "        df.loc[i] = [idx1, idx2, idx3]\n",
    "    return df\n",
    "\n",
    "times_framed()"
   ]
  },
  {
   "cell_type": "code",
   "execution_count": 20,
   "metadata": {},
   "outputs": [
    {
     "data": {
      "text/plain": [
       "(<matplotlib.axes._subplots.AxesSubplot at 0x7f6c48e216d8>,\n",
       " <matplotlib.axes._subplots.AxesSubplot at 0x7f6c48e19e48>)"
      ]
     },
     "execution_count": 20,
     "metadata": {},
     "output_type": "execute_result"
    },
    {
     "data": {
      "image/png": "[encoded data removed]",
      "text/plain": [
       "<Figure size 720x216 with 2 Axes>"
      ]
     },
     "metadata": {
      "needs_background": "light"
     },
     "output_type": "display_data"
    }
   ],
   "source": [
    "#q14\n",
    "\n",
    "data1 = times_framed(versions[\"v2-pass-per-uniq\"])\n",
    "data2 = times_framed(versions[\"v3-single-pass\"])\n",
    "fig, (ax1, ax2) = plt.subplots(1, 2, sharey=True, figsize=(10,3))\n",
    "\n",
    "ax1.plot(data1[10], label=10)\n",
    "ax1.plot(data1[5], label=5)\n",
    "ax1.plot(data1[1], label=1)\n",
    "ax1.set_title('version 2')\n",
    "ax1.set_ylabel('Time (s)')\n",
    "ax1.set_xlabel('total words')\n",
    "ax1.set_xticks([0, 2000, 4000, 6000, 8000, 10000])\n",
    "ax1.set_xlim(0,10000)\n",
    "\n",
    "ax2.plot(data2[10], label=10)\n",
    "ax2.plot(data2[5], label=5)\n",
    "ax2.plot(data2[1], label=1)\n",
    "ax2.set_title('version 3')\n",
    "ax2.set_xlabel('total words')\n",
    "ax2.set_xticks([0, 2000, 4000, 6000, 8000, 10000])\n",
    "ax2.set_xlim(0,10000)\n",
    "ax2.legend(loc='upper right', title='percent uniq')\n",
    "ax1, ax2"
   ]
  },
  {
   "cell_type": "code",
   "execution_count": 21,
   "metadata": {},
   "outputs": [
    {
     "data": {
      "text/plain": [
       "(<matplotlib.axes._subplots.AxesSubplot at 0x7f6c48d49240>,\n",
       " <matplotlib.axes._subplots.AxesSubplot at 0x7f6c48d688d0>)"
      ]
     },
     "execution_count": 21,
     "metadata": {},
     "output_type": "execute_result"
    },
    {
     "data": {
      "image/png": "[encoded data removed]",
      "text/plain": [
       "<Figure size 720x216 with 2 Axes>"
      ]
     },
     "metadata": {
      "needs_background": "light"
     },
     "output_type": "display_data"
    }
   ],
   "source": [
    "#q15\n",
    "\n",
    "fig, (ax1, ax2) = plt.subplots(1, 2, sharey=True, figsize=(10,3))\n",
    "\n",
    "data1.T.plot.line(ax=ax1)\n",
    "ax1.set_title('version 2')\n",
    "ax1.set_ylabel('Time (s)')\n",
    "ax1.set_xlabel('percent uniq')\n",
    "ax1.set_xlim(0,10)\n",
    "ax1.get_legend().remove()\n",
    "\n",
    "data2.T.plot.line(ax=ax2)\n",
    "ax2.set_title('version 3')\n",
    "ax2.set_ylabel('Time (s)')\n",
    "ax2.set_xlabel('percent uniq')\n",
    "ax2.set_xlim(0,10)\n",
    "ax2.legend(loc='upper right', title='total words')\n",
    "\n",
    "ax1, ax2"
   ]
  },
  {
   "cell_type": "markdown",
   "metadata": {},
   "source": [
    "I honestly couldn't figure out why my times for version 2 were so much lower than the expected. My git checkout proceedures seem to be working, and the numbers for the other versions match up too. I tried so many things to fix it but couldn't figure it out. But based on the graphs from the project README, Q15 shows a clearer performance trend. Since the lines are nearly linear, the trend can be moer easily inferred as opposed to the kinked lines in Q14. "
   ]
  },
  {
   "cell_type": "code",
   "execution_count": 22,
   "metadata": {},
   "outputs": [
    {
     "name": "stdout",
     "output_type": "stream",
     "text": [
      "10000\n"
     ]
    },
    {
     "name": "stdout",
     "output_type": "stream",
     "text": [
      "20000\n"
     ]
    },
    {
     "name": "stdout",
     "output_type": "stream",
     "text": [
      "30000\n"
     ]
    },
    {
     "name": "stdout",
     "output_type": "stream",
     "text": [
      "40000\n"
     ]
    },
    {
     "name": "stdout",
     "output_type": "stream",
     "text": [
      "50000\n"
     ]
    },
    {
     "name": "stdout",
     "output_type": "stream",
     "text": [
      "60000\n"
     ]
    },
    {
     "name": "stdout",
     "output_type": "stream",
     "text": [
      "70000\n"
     ]
    },
    {
     "name": "stdout",
     "output_type": "stream",
     "text": [
      "80000\n"
     ]
    },
    {
     "name": "stdout",
     "output_type": "stream",
     "text": [
      "90000\n"
     ]
    },
    {
     "name": "stdout",
     "output_type": "stream",
     "text": [
      "100000\n"
     ]
    },
    {
     "data": {
      "text/html": [
       "<div>\n",
       "<style scoped>\n",
       "    .dataframe tbody tr th:only-of-type {\n",
       "        vertical-align: middle;\n",
       "    }\n",
       "\n",
       "    .dataframe tbody tr th {\n",
       "        vertical-align: top;\n",
       "    }\n",
       "\n",
       "    .dataframe thead th {\n",
       "        text-align: right;\n",
       "    }\n",
       "</style>\n",
       "<table border=\"1\" class=\"dataframe\">\n",
       "  <thead>\n",
       "    <tr style=\"text-align: right;\">\n",
       "      <th>trial</th>\n",
       "      <th>0</th>\n",
       "      <th>1</th>\n",
       "      <th>2</th>\n",
       "      <th>3</th>\n",
       "      <th>4</th>\n",
       "    </tr>\n",
       "    <tr>\n",
       "      <th>total</th>\n",
       "      <th></th>\n",
       "      <th></th>\n",
       "      <th></th>\n",
       "      <th></th>\n",
       "      <th></th>\n",
       "    </tr>\n",
       "  </thead>\n",
       "  <tbody>\n",
       "    <tr>\n",
       "      <th>10.0</th>\n",
       "      <td>47.626972</td>\n",
       "      <td>46.964884</td>\n",
       "      <td>47.984838</td>\n",
       "      <td>46.352863</td>\n",
       "      <td>45.293093</td>\n",
       "    </tr>\n",
       "    <tr>\n",
       "      <th>20.0</th>\n",
       "      <td>54.097891</td>\n",
       "      <td>54.598093</td>\n",
       "      <td>54.185390</td>\n",
       "      <td>55.626392</td>\n",
       "      <td>55.233240</td>\n",
       "    </tr>\n",
       "    <tr>\n",
       "      <th>30.0</th>\n",
       "      <td>63.797474</td>\n",
       "      <td>64.978361</td>\n",
       "      <td>62.553167</td>\n",
       "      <td>62.103510</td>\n",
       "      <td>61.272860</td>\n",
       "    </tr>\n",
       "    <tr>\n",
       "      <th>40.0</th>\n",
       "      <td>72.085381</td>\n",
       "      <td>72.495461</td>\n",
       "      <td>72.471142</td>\n",
       "      <td>71.891546</td>\n",
       "      <td>73.150396</td>\n",
       "    </tr>\n",
       "    <tr>\n",
       "      <th>50.0</th>\n",
       "      <td>80.595016</td>\n",
       "      <td>80.549479</td>\n",
       "      <td>81.196308</td>\n",
       "      <td>80.732107</td>\n",
       "      <td>80.797672</td>\n",
       "    </tr>\n",
       "    <tr>\n",
       "      <th>60.0</th>\n",
       "      <td>89.343071</td>\n",
       "      <td>89.390755</td>\n",
       "      <td>89.107990</td>\n",
       "      <td>89.364529</td>\n",
       "      <td>88.747978</td>\n",
       "    </tr>\n",
       "    <tr>\n",
       "      <th>70.0</th>\n",
       "      <td>97.816229</td>\n",
       "      <td>101.915598</td>\n",
       "      <td>98.352909</td>\n",
       "      <td>98.687172</td>\n",
       "      <td>99.193096</td>\n",
       "    </tr>\n",
       "    <tr>\n",
       "      <th>80.0</th>\n",
       "      <td>109.494209</td>\n",
       "      <td>108.697414</td>\n",
       "      <td>108.730555</td>\n",
       "      <td>107.749462</td>\n",
       "      <td>107.325554</td>\n",
       "    </tr>\n",
       "    <tr>\n",
       "      <th>90.0</th>\n",
       "      <td>120.606661</td>\n",
       "      <td>117.171288</td>\n",
       "      <td>117.374897</td>\n",
       "      <td>117.373466</td>\n",
       "      <td>117.561579</td>\n",
       "    </tr>\n",
       "    <tr>\n",
       "      <th>100.0</th>\n",
       "      <td>127.215624</td>\n",
       "      <td>125.060320</td>\n",
       "      <td>126.245260</td>\n",
       "      <td>127.437592</td>\n",
       "      <td>125.370502</td>\n",
       "    </tr>\n",
       "  </tbody>\n",
       "</table>\n",
       "</div>"
      ],
      "text/plain": [
       "trial           0           1           2           3           4\n",
       "total                                                            \n",
       "10.0    47.626972   46.964884   47.984838   46.352863   45.293093\n",
       "20.0    54.097891   54.598093   54.185390   55.626392   55.233240\n",
       "30.0    63.797474   64.978361   62.553167   62.103510   61.272860\n",
       "40.0    72.085381   72.495461   72.471142   71.891546   73.150396\n",
       "50.0    80.595016   80.549479   81.196308   80.732107   80.797672\n",
       "60.0    89.343071   89.390755   89.107990   89.364529   88.747978\n",
       "70.0    97.816229  101.915598   98.352909   98.687172   99.193096\n",
       "80.0   109.494209  108.697414  108.730555  107.749462  107.325554\n",
       "90.0   120.606661  117.171288  117.374897  117.373466  117.561579\n",
       "100.0  127.215624  125.060320  126.245260  127.437592  125.370502"
      ]
     },
     "execution_count": 22,
     "metadata": {},
     "output_type": "execute_result"
    }
   ],
   "source": [
    "df = DataFrame()\n",
    "df.index.name = \"total\"\n",
    "df.columns.name = \"trial\"\n",
    "for i in range(10):\n",
    "    total_words = 10000 * (i+1)\n",
    "    print(total_words)\n",
    "    uniq = total_words // 10\n",
    "    for trial in range(5):\n",
    "        df.loc[total_words/1000, trial] = time_run_sec(uniq, total_words)*1000 # TODO: call time_run_sec\n",
    "df"
   ]
  },
  {
   "cell_type": "code",
   "execution_count": 23,
   "metadata": {},
   "outputs": [
    {
     "data": {
      "text/plain": [
       "<matplotlib.axes._subplots.AxesSubplot at 0x7f6c48ca0fd0>"
      ]
     },
     "execution_count": 23,
     "metadata": {},
     "output_type": "execute_result"
    },
    {
     "data": {
      "image/png": "[encoded data removed]",
      "text/plain": [
       "<Figure size 432x288 with 1 Axes>"
      ]
     },
     "metadata": {
      "needs_background": "light"
     },
     "output_type": "display_data"
    }
   ],
   "source": [
    "#q16\n",
    "\n",
    "mean = df.mean(axis=1)\n",
    "std = df.std(axis=1)\n",
    "\n",
    "fig, ax = plt.subplots()\n",
    "plt.fill_between(mean.index, mean-std, mean+std, color='b', alpha=0.2)\n",
    "plt.ylim(0,115)\n",
    "plt.xlim(0,100)\n",
    "ax.plot(mean, color='black')\n",
    "ax.spines[\"top\"].set_visible(False)\n",
    "ax.spines[\"right\"].set_visible(False)\n",
    "ax.set_ylabel('Time (ms)')\n",
    "ax.set_xlabel('Words (Thousands)')\n",
    "\n",
    "ax"
   ]
  },
  {
   "cell_type": "markdown",
   "metadata": {},
   "source": [
    "# Part 5"
   ]
  },
  {
   "cell_type": "code",
   "execution_count": 24,
   "metadata": {},
   "outputs": [],
   "source": [
    "class Counter():\n",
    "    def __init__(self):\n",
    "        self.items = dict()\n",
    "        \n",
    "    def __repr__(self):\n",
    "        return repr(self.items)\n",
    "        \n",
    "    def __setitem__(self, key, value):\n",
    "        key = key.upper()\n",
    "        self.items[key] = value\n",
    "        \n",
    "    def __getitem__(self, key):\n",
    "        key = key.upper()\n",
    "        try:\n",
    "            value = self.items[key]\n",
    "            return value\n",
    "        except KeyError:\n",
    "            return 0\n",
    "        \n",
    "    def max_keys(self):\n",
    "        final = []\n",
    "        values = list(self.items.values())\n",
    "        holder = 0\n",
    "        index = 0\n",
    "        for i in values:\n",
    "            if holder < i:\n",
    "                holder = i\n",
    "                final = []\n",
    "                final.append(list(self.items.keys())[index])\n",
    "            elif holder == i:\n",
    "                final.append(list(self.items.keys())[index])\n",
    "            index += 1\n",
    "        return final\n",
    "        "
   ]
  },
  {
   "cell_type": "code",
   "execution_count": 25,
   "metadata": {},
   "outputs": [
    {
     "data": {
      "text/plain": [
       "0"
      ]
     },
     "execution_count": 25,
     "metadata": {},
     "output_type": "execute_result"
    }
   ],
   "source": [
    "#q17\n",
    "\n",
    "c = Counter()\n",
    "c[\"apple\"]"
   ]
  },
  {
   "cell_type": "code",
   "execution_count": 26,
   "metadata": {},
   "outputs": [
    {
     "data": {
      "text/plain": [
       "2"
      ]
     },
     "execution_count": 26,
     "metadata": {},
     "output_type": "execute_result"
    }
   ],
   "source": [
    "#q18\n",
    "\n",
    "c = Counter()\n",
    "c[\"apple\"] += 1\n",
    "c[\"banana\"] += 1\n",
    "c[\"BANANA\"] += 1\n",
    "c[\"kiwi\"] += 2\n",
    "c[\"banana\"]"
   ]
  },
  {
   "cell_type": "code",
   "execution_count": 27,
   "metadata": {},
   "outputs": [
    {
     "data": {
      "text/plain": [
       "{'APPLE': 1, 'BANANA': 2, 'KIWI': 2}"
      ]
     },
     "execution_count": 27,
     "metadata": {},
     "output_type": "execute_result"
    }
   ],
   "source": [
    "#q19\n",
    "\n",
    "c"
   ]
  },
  {
   "cell_type": "code",
   "execution_count": 28,
   "metadata": {},
   "outputs": [
    {
     "data": {
      "text/plain": [
       "['BANANA', 'KIWI']"
      ]
     },
     "execution_count": 28,
     "metadata": {},
     "output_type": "execute_result"
    }
   ],
   "source": [
    "#q20\n",
    "\n",
    "c.max_keys()"
   ]
  },
  {
   "cell_type": "code",
   "execution_count": null,
   "metadata": {},
   "outputs": [],
   "source": []
  }
 ],
 "metadata": {
  "kernelspec": {
   "display_name": "Python 3",
   "language": "python",
   "name": "python3"
  },
  "language_info": {
   "codemirror_mode": {
    "name": "ipython",
    "version": 3
   },
   "file_extension": ".py",
   "mimetype": "text/x-python",
   "name": "python",
   "nbconvert_exporter": "python",
   "pygments_lexer": "ipython3",
   "version": "3.6.9"
  }
 },
 "nbformat": 4,
 "nbformat_minor": 4
}
