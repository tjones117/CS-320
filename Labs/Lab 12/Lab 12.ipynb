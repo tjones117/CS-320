{
 "cells": [
  {
   "cell_type": "markdown",
   "metadata": {},
   "source": [
    "# Part 1"
   ]
  },
  {
   "cell_type": "code",
   "execution_count": 2,
   "metadata": {},
   "outputs": [
    {
     "data": {
      "text/plain": [
       "320"
      ]
     },
     "execution_count": 2,
     "metadata": {},
     "output_type": "execute_result"
    }
   ],
   "source": [
    "import numpy as np\n",
    "\n",
    "def v_dot_v(v1, v2):\n",
    "    assert len(v1) == len(v2)\n",
    "    total = 0\n",
    "    for i in range(len(v1)):\n",
    "        total += v1[i] * v2[i]\n",
    "    return total\n",
    "\n",
    "a = np.array([100,10,1])\n",
    "b = np.array([3,2,0])\n",
    "v_dot_v(a, b) # should be 320"
   ]
  },
  {
   "cell_type": "markdown",
   "metadata": {},
   "source": [
    "# Part 2"
   ]
  },
  {
   "cell_type": "code",
   "execution_count": 6,
   "metadata": {},
   "outputs": [
    {
     "data": {
      "text/plain": [
       "array([301, 320])"
      ]
     },
     "execution_count": 6,
     "metadata": {},
     "output_type": "execute_result"
    }
   ],
   "source": [
    "def m_dot_v(m, v):\n",
    "    output = []\n",
    "    for row in m:\n",
    "        assert len(row) == len(v)\n",
    "        output.append(sum(row * v))\n",
    "    return np.array(output)\n",
    "\n",
    "A = np.array([\n",
    "    [1,0,3],\n",
    "    [0,2,3],\n",
    "])\n",
    "x = np.array([1,10,100])\n",
    "m_dot_v(A, x) # should be [301, 320]"
   ]
  },
  {
   "cell_type": "markdown",
   "metadata": {},
   "source": [
    "# Part 3"
   ]
  },
  {
   "cell_type": "code",
   "execution_count": 7,
   "metadata": {},
   "outputs": [
    {
     "data": {
      "text/plain": [
       "array([[   1,    0,   10],\n",
       "       [   1,    2,   12],\n",
       "       [   1,    3,   13],\n",
       "       [   0,    5,    5],\n",
       "       [ 100,  200, 1200]])"
      ]
     },
     "execution_count": 7,
     "metadata": {},
     "output_type": "execute_result"
    }
   ],
   "source": [
    "def m_dot_m(m1, m2):\n",
    "    output_cols = []\n",
    "    for col in m2.T:\n",
    "        output_cols.append(m_dot_v(m1, col))\n",
    "    return np.array(output_cols).T\n",
    "\n",
    "A = np.array([\n",
    "    [1,0],\n",
    "    [1,2],\n",
    "    [1,3],\n",
    "    [0,5],\n",
    "    [100,200],\n",
    "])\n",
    "B = np.array([\n",
    "    [1,0,10],\n",
    "    [0,1,1],\n",
    "])\n",
    "m_dot_m(A, B)"
   ]
  },
  {
   "cell_type": "code",
   "execution_count": null,
   "metadata": {},
   "outputs": [],
   "source": []
  }
 ],
 "metadata": {
  "kernelspec": {
   "display_name": "Python 3",
   "language": "python",
   "name": "python3"
  },
  "language_info": {
   "codemirror_mode": {
    "name": "ipython",
    "version": 3
   },
   "file_extension": ".py",
   "mimetype": "text/x-python",
   "name": "python",
   "nbconvert_exporter": "python",
   "pygments_lexer": "ipython3",
   "version": "3.6.9"
  }
 },
 "nbformat": 4,
 "nbformat_minor": 4
}
