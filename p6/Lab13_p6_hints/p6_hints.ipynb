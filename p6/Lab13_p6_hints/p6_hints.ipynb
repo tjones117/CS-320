{
 "cells": [
  {
   "cell_type": "code",
   "execution_count": 4,
   "metadata": {},
   "outputs": [
    {
     "data": {
      "text/plain": [
       "bytes"
      ]
     },
     "execution_count": 4,
     "metadata": {},
     "output_type": "execute_result"
    }
   ],
   "source": [
    "from zipfile import ZipFile\n",
    "\n",
    "with ZipFile(\"dataset_diabetes.zip\") as zf:\n",
    "    with zf.open(\"dataset_diabetes/IDs_mapping.csv\") as f:\n",
    "        data = f.read()\n",
    "type(data)"
   ]
  },
  {
   "cell_type": "code",
   "execution_count": 2,
   "metadata": {},
   "outputs": [
    {
     "data": {
      "text/plain": [
       "'admission_type_id,description\\r\\n1,Emergency\\r\\n2,Urgent\\r\\n3,Elective\\r\\n4,Newborn\\r\\n5,Not Available\\r\\n6,NULL\\r\\n7,Trauma Center\\r\\n8,Not Mapped\\r\\n,\\r\\ndischarge_disposition_id,description\\r\\n1,Discharged to home\\r\\n2,Discharged/transferred to another short term hospital\\r\\n3,Discharged/transferred to SNF\\r\\n4,Discharged/transferred to ICF\\r\\n5,Discharged/transferred to another type of inpatient care institution\\r\\n6,Discharged/transferred to home with home health service\\r\\n7,Left AMA\\r\\n8,Discharged/transferred to home under care of Home IV provider\\r\\n9,Admitted as an inpatient to this hospital\\r\\n10,Neonate discharged to another hospital for neonatal aftercare\\r\\n11,Expired\\r\\n12,Still patient or expected to return for outpatient services\\r\\n13,Hospice / home\\r\\n14,Hospice / medical facility\\r\\n15,Discharged/transferred within this institution to Medicare approved swing bed\\r\\n16,Discharged/transferred/referred another institution for outpatient services\\r\\n17,Discharged/transferred/referred to this institution for outpatient services\\r\\n18,NULL\\r\\n19,\"Expired at home. Medicaid only, hospice.\"\\r\\n20,\"Expired in a medical facility. Medicaid only, hospice.\"\\r\\n21,\"Expired, place unknown. Medicaid only, hospice.\"\\r\\n22,Discharged/transferred to another rehab fac including rehab units of a hospital .\\r\\n23,Discharged/transferred to a long term care hospital.\\r\\n24,Discharged/transferred to a nursing facility certified under Medicaid but not certified under Medicare.\\r\\n25,Not Mapped\\r\\n26,Unknown/Invalid\\r\\n30,Discharged/transferred to another Type of Health Care Institution not Defined Elsewhere\\r\\n27,Discharged/transferred to a federal health care facility.\\r\\n28,Discharged/transferred/referred to a psychiatric hospital of psychiatric distinct part unit of a hospital\\r\\n29,Discharged/transferred to a Critical Access Hospital (CAH).\\r\\n,\\r\\nadmission_source_id,description\\r\\n1, Physician Referral\\r\\n2,Clinic Referral\\r\\n3,HMO Referral\\r\\n4,Transfer from a hospital\\r\\n5, Transfer from a Skilled Nursing Facility (SNF)\\r\\n6, Transfer from another health care facility\\r\\n7, Emergency Room\\r\\n8, Court/Law Enforcement\\r\\n9, Not Available\\r\\n10, Transfer from critial access hospital\\r\\n11,Normal Delivery\\r\\n12, Premature Delivery\\r\\n13, Sick Baby\\r\\n14, Extramural Birth\\r\\n15,Not Available\\r\\n17,NULL\\r\\n18, Transfer From Another Home Health Agency\\r\\n19,Readmission to Same Home Health Agency\\r\\n20, Not Mapped\\r\\n21,Unknown/Invalid\\r\\n22, Transfer from hospital inpt/same fac reslt in a sep claim\\r\\n23, Born inside this hospital\\r\\n24, Born outside this hospital\\r\\n25, Transfer from Ambulatory Surgery Center\\r\\n26,Transfer from Hospice\\r\\n'"
      ]
     },
     "execution_count": 2,
     "metadata": {},
     "output_type": "execute_result"
    }
   ],
   "source": [
    "str(data, \"utf-8\")"
   ]
  },
  {
   "cell_type": "code",
   "execution_count": 5,
   "metadata": {},
   "outputs": [
    {
     "data": {
      "text/plain": [
       "str"
      ]
     },
     "execution_count": 5,
     "metadata": {},
     "output_type": "execute_result"
    }
   ],
   "source": [
    "from zipfile import ZipFile\n",
    "from io import TextIOWrapper\n",
    "\n",
    "with ZipFile(\"dataset_diabetes.zip\") as zf:\n",
    "    with zf.open(\"dataset_diabetes/IDs_mapping.csv\") as f:\n",
    "        data = TextIOWrapper(f).read()\n",
    "type(data)"
   ]
  },
  {
   "cell_type": "code",
   "execution_count": 7,
   "metadata": {},
   "outputs": [
    {
     "name": "stdout",
     "output_type": "stream",
     "text": [
      "admission_type_id,description\n",
      "1,Emergency\n",
      "2,Urgent\n",
      "3,Elective\n",
      "4,Newborn\n",
      "5,Not Available\n",
      "6,NULL\n",
      "7,Trauma Center\n",
      "8,Not Mapped\n",
      ",\n",
      "discharge_disposition_id,description\n",
      "1,Discharged to home\n",
      "2,Discharged/transferred to another short term hospital\n",
      "3,Discharged/transferred to SNF\n",
      "4,Discharged/transferred to ICF\n",
      "5,Discharged/transferred to another type of inpatient care institution\n",
      "6,Discharged/transferred to home with home health service\n",
      "7,Left AMA\n",
      "8,Discharged/transferred to home under care of Home IV provider\n",
      "9,Admitted as an inpatient to this hospital\n",
      "10,Neonate discharged to another hospital for neonatal aftercare\n",
      "11,Expired\n",
      "12,Still patient or expected to return for outpatient services\n",
      "13,Hospice / home\n",
      "14,Hospice / medical facility\n",
      "15,Discharged/transferred within this institution to Medicare approved swing bed\n",
      "16,Discharged/transferred/referred another institution for outpatient services\n",
      "17,Discharged/transferred/referred to this institution for outpatient services\n",
      "18,NULL\n",
      "19,\"Expired at home. Medicaid only, hospice.\"\n",
      "20,\"Expired in a medical facility. Medicaid only, hospice.\"\n",
      "21,\"Expired, place unknown. Medicaid only, hospice.\"\n",
      "22,Discharged/transferred to another rehab fac including rehab units of a hospital .\n",
      "23,Discharged/transferred to a long term care hospital.\n",
      "24,Discharged/transferred to a nursing facility certified under Medicaid but not certified under Medicare.\n",
      "25,Not Mapped\n",
      "26,Unknown/Invalid\n",
      "30,Discharged/transferred to another Type of Health Care Institution not Defined Elsewhere\n",
      "27,Discharged/transferred to a federal health care facility.\n",
      "28,Discharged/transferred/referred to a psychiatric hospital of psychiatric distinct part unit of a hospital\n",
      "29,Discharged/transferred to a Critical Access Hospital (CAH).\n",
      ",\n",
      "admission_source_id,description\n",
      "1, Physician Referral\n",
      "2,Clinic Referral\n",
      "3,HMO Referral\n",
      "4,Transfer from a hospital\n",
      "5, Transfer from a Skilled Nursing Facility (SNF)\n",
      "6, Transfer from another health care facility\n",
      "7, Emergency Room\n",
      "8, Court/Law Enforcement\n",
      "9, Not Available\n",
      "10, Transfer from critial access hospital\n",
      "11,Normal Delivery\n",
      "12, Premature Delivery\n",
      "13, Sick Baby\n",
      "14, Extramural Birth\n",
      "15,Not Available\n",
      "17,NULL\n",
      "18, Transfer From Another Home Health Agency\n",
      "19,Readmission to Same Home Health Agency\n",
      "20, Not Mapped\n",
      "21,Unknown/Invalid\n",
      "22, Transfer from hospital inpt/same fac reslt in a sep claim\n",
      "23, Born inside this hospital\n",
      "24, Born outside this hospital\n",
      "25, Transfer from Ambulatory Surgery Center\n",
      "26,Transfer from Hospice\n",
      "\n"
     ]
    }
   ],
   "source": [
    "print(data)"
   ]
  },
  {
   "cell_type": "code",
   "execution_count": 8,
   "metadata": {},
   "outputs": [
    {
     "data": {
      "text/plain": [
       "3"
      ]
     },
     "execution_count": 8,
     "metadata": {},
     "output_type": "execute_result"
    }
   ],
   "source": [
    "parts = data.split(\"\\n,\\n\")\n",
    "len(parts)"
   ]
  },
  {
   "cell_type": "code",
   "execution_count": 12,
   "metadata": {},
   "outputs": [
    {
     "name": "stdout",
     "output_type": "stream",
     "text": [
      "admission_type_id.csv\n",
      "discharge_disposition_id.csv\n",
      "admission_source_id.csv\n"
     ]
    }
   ],
   "source": [
    "for p in parts:\n",
    "    name = p[:p.index(\",\")] + \".csv\"\n",
    "    with open(name, 'w') as f:\n",
    "        f.write(p)\n",
    "    print(name)\n",
    "    # TODO: write the string p to a file named name.\n",
    "    # no need to use the CSV module!"
   ]
  },
  {
   "cell_type": "code",
   "execution_count": 13,
   "metadata": {},
   "outputs": [
    {
     "data": {
      "text/html": [
       "<div>\n",
       "<style scoped>\n",
       "    .dataframe tbody tr th:only-of-type {\n",
       "        vertical-align: middle;\n",
       "    }\n",
       "\n",
       "    .dataframe tbody tr th {\n",
       "        vertical-align: top;\n",
       "    }\n",
       "\n",
       "    .dataframe thead th {\n",
       "        text-align: right;\n",
       "    }\n",
       "</style>\n",
       "<table border=\"1\" class=\"dataframe\">\n",
       "  <thead>\n",
       "    <tr style=\"text-align: right;\">\n",
       "      <th></th>\n",
       "      <th>admission_type_id</th>\n",
       "      <th>description</th>\n",
       "    </tr>\n",
       "  </thead>\n",
       "  <tbody>\n",
       "    <tr>\n",
       "      <th>0</th>\n",
       "      <td>1</td>\n",
       "      <td>Emergency</td>\n",
       "    </tr>\n",
       "    <tr>\n",
       "      <th>1</th>\n",
       "      <td>2</td>\n",
       "      <td>Urgent</td>\n",
       "    </tr>\n",
       "    <tr>\n",
       "      <th>2</th>\n",
       "      <td>3</td>\n",
       "      <td>Elective</td>\n",
       "    </tr>\n",
       "    <tr>\n",
       "      <th>3</th>\n",
       "      <td>4</td>\n",
       "      <td>Newborn</td>\n",
       "    </tr>\n",
       "    <tr>\n",
       "      <th>4</th>\n",
       "      <td>5</td>\n",
       "      <td>Not Available</td>\n",
       "    </tr>\n",
       "    <tr>\n",
       "      <th>5</th>\n",
       "      <td>6</td>\n",
       "      <td>NaN</td>\n",
       "    </tr>\n",
       "    <tr>\n",
       "      <th>6</th>\n",
       "      <td>7</td>\n",
       "      <td>Trauma Center</td>\n",
       "    </tr>\n",
       "    <tr>\n",
       "      <th>7</th>\n",
       "      <td>8</td>\n",
       "      <td>Not Mapped</td>\n",
       "    </tr>\n",
       "  </tbody>\n",
       "</table>\n",
       "</div>"
      ],
      "text/plain": [
       "   admission_type_id    description\n",
       "0                  1      Emergency\n",
       "1                  2         Urgent\n",
       "2                  3       Elective\n",
       "3                  4        Newborn\n",
       "4                  5  Not Available\n",
       "5                  6            NaN\n",
       "6                  7  Trauma Center\n",
       "7                  8     Not Mapped"
      ]
     },
     "execution_count": 13,
     "metadata": {},
     "output_type": "execute_result"
    }
   ],
   "source": [
    "import pandas as pd\n",
    "df = pd.read_csv(\"admission_type_id.csv\")\n",
    "df"
   ]
  },
  {
   "cell_type": "code",
   "execution_count": 14,
   "metadata": {},
   "outputs": [
    {
     "data": {
      "text/html": [
       "<div>\n",
       "<style scoped>\n",
       "    .dataframe tbody tr th:only-of-type {\n",
       "        vertical-align: middle;\n",
       "    }\n",
       "\n",
       "    .dataframe tbody tr th {\n",
       "        vertical-align: top;\n",
       "    }\n",
       "\n",
       "    .dataframe thead th {\n",
       "        text-align: right;\n",
       "    }\n",
       "</style>\n",
       "<table border=\"1\" class=\"dataframe\">\n",
       "  <thead>\n",
       "    <tr style=\"text-align: right;\">\n",
       "      <th></th>\n",
       "      <th>description</th>\n",
       "    </tr>\n",
       "    <tr>\n",
       "      <th>admission_type_id</th>\n",
       "      <th></th>\n",
       "    </tr>\n",
       "  </thead>\n",
       "  <tbody>\n",
       "    <tr>\n",
       "      <th>1</th>\n",
       "      <td>Emergency</td>\n",
       "    </tr>\n",
       "    <tr>\n",
       "      <th>2</th>\n",
       "      <td>Urgent</td>\n",
       "    </tr>\n",
       "    <tr>\n",
       "      <th>3</th>\n",
       "      <td>Elective</td>\n",
       "    </tr>\n",
       "    <tr>\n",
       "      <th>4</th>\n",
       "      <td>Newborn</td>\n",
       "    </tr>\n",
       "    <tr>\n",
       "      <th>5</th>\n",
       "      <td>Not Available</td>\n",
       "    </tr>\n",
       "    <tr>\n",
       "      <th>6</th>\n",
       "      <td>NaN</td>\n",
       "    </tr>\n",
       "    <tr>\n",
       "      <th>7</th>\n",
       "      <td>Trauma Center</td>\n",
       "    </tr>\n",
       "    <tr>\n",
       "      <th>8</th>\n",
       "      <td>Not Mapped</td>\n",
       "    </tr>\n",
       "  </tbody>\n",
       "</table>\n",
       "</div>"
      ],
      "text/plain": [
       "                     description\n",
       "admission_type_id               \n",
       "1                      Emergency\n",
       "2                         Urgent\n",
       "3                       Elective\n",
       "4                        Newborn\n",
       "5                  Not Available\n",
       "6                            NaN\n",
       "7                  Trauma Center\n",
       "8                     Not Mapped"
      ]
     },
     "execution_count": 14,
     "metadata": {},
     "output_type": "execute_result"
    }
   ],
   "source": [
    "df.set_index(\"admission_type_id\")"
   ]
  },
  {
   "cell_type": "code",
   "execution_count": 15,
   "metadata": {},
   "outputs": [
    {
     "data": {
      "text/plain": [
       "admission_type_id\n",
       "1        Emergency\n",
       "2           Urgent\n",
       "3         Elective\n",
       "4          Newborn\n",
       "5    Not Available\n",
       "6              NaN\n",
       "7    Trauma Center\n",
       "8       Not Mapped\n",
       "Name: description, dtype: object"
      ]
     },
     "execution_count": 15,
     "metadata": {},
     "output_type": "execute_result"
    }
   ],
   "source": [
    "df.set_index(\"admission_type_id\")[\"description\"]"
   ]
  },
  {
   "cell_type": "code",
   "execution_count": 16,
   "metadata": {},
   "outputs": [
    {
     "data": {
      "text/plain": [
       "{1: 'Emergency',\n",
       " 2: 'Urgent',\n",
       " 3: 'Elective',\n",
       " 4: 'Newborn',\n",
       " 5: 'Not Available',\n",
       " 6: nan,\n",
       " 7: 'Trauma Center',\n",
       " 8: 'Not Mapped'}"
      ]
     },
     "execution_count": 16,
     "metadata": {},
     "output_type": "execute_result"
    }
   ],
   "source": [
    "dict(df.set_index(\"admission_type_id\")[\"description\"])"
   ]
  },
  {
   "cell_type": "code",
   "execution_count": null,
   "metadata": {},
   "outputs": [],
   "source": []
  }
 ],
 "metadata": {
  "kernelspec": {
   "display_name": "Python 3",
   "language": "python",
   "name": "python3"
  },
  "language_info": {
   "codemirror_mode": {
    "name": "ipython",
    "version": 3
   },
   "file_extension": ".py",
   "mimetype": "text/x-python",
   "name": "python",
   "nbconvert_exporter": "python",
   "pygments_lexer": "ipython3",
   "version": "3.6.9"
  }
 },
 "nbformat": 4,
 "nbformat_minor": 4
}
