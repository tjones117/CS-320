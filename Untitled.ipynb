{
 "cells": [
  {
   "cell_type": "code",
   "execution_count": null,
   "metadata": {},
   "outputs": [
    {
     "name": "stdout",
     "output_type": "stream",
     "text": [
      "Done p6\n",
      "Done p5\n",
      "Done p4\n",
      "Done p3\n",
      "Done p2\n",
      "Done p1\n",
      "Done Lectures\n",
      "Done Labs\n",
      "Done git_Tutorial\n"
     ]
    }
   ],
   "source": [
    "import tarfile\n",
    "\n",
    "names = ['p6', 'p5', 'p4', 'p3', 'p2', 'p1', 'Lectures', 'Labs', 'git_Tutorial', 'final']\n",
    "\n",
    "for i in names:\n",
    "    my_tar = tarfile.open(i + '.tar.gz')\n",
    "    my_tar.extractall('./') # specify which folder to extract to\n",
    "    my_tar.close()\n",
    "    print('Done ' + i)"
   ]
  },
  {
   "cell_type": "code",
   "execution_count": 6,
   "metadata": {},
   "outputs": [
    {
     "name": "stdout",
     "output_type": "stream",
     "text": [
      "Error: ./p6 : The system cannot find the file specified\n",
      "Error: ./p5 : The system cannot find the file specified\n",
      "Error: ./p4 : The system cannot find the file specified\n",
      "Error: ./p3 : The system cannot find the file specified\n",
      "Error: ./p2 : The system cannot find the file specified\n",
      "Error: ./Lectures : The system cannot find the file specified\n",
      "Error: ./final : The system cannot find the file specified\n"
     ]
    }
   ],
   "source": [
    "import shutil\n",
    "import os\n",
    "\n",
    "def onerror(func, path, exc_info):\n",
    "    \"\"\"\n",
    "    Error handler for ``shutil.rmtree``.\n",
    "\n",
    "    If the error is due to an access error (read only file)\n",
    "    it attempts to add write permission and then retries.\n",
    "\n",
    "    If the error is for another reason it re-raises the error.\n",
    "\n",
    "    Usage : ``shutil.rmtree(path, onerror=onerror)``\n",
    "    \"\"\"\n",
    "    import stat\n",
    "    if not os.access(path, os.W_OK):\n",
    "        # Is the error an access error ?\n",
    "        os.chmod(path, stat.S_IWUSR)\n",
    "        func(path)\n",
    "    else:\n",
    "        raise\n",
    "\n",
    "for i in names:\n",
    "    dir_path = './' + i\n",
    "\n",
    "    try:\n",
    "        shutil.rmtree(dir_path, onerror=onerror)\n",
    "    except OSError as e:\n",
    "        print(\"Error: %s : %s\" % (dir_path, e.strerror))"
   ]
  },
  {
   "cell_type": "code",
   "execution_count": null,
   "metadata": {},
   "outputs": [],
   "source": []
  }
 ],
 "metadata": {
  "kernelspec": {
   "display_name": "Python 3",
   "language": "python",
   "name": "python3"
  },
  "language_info": {
   "codemirror_mode": {
    "name": "ipython",
    "version": 3
   },
   "file_extension": ".py",
   "mimetype": "text/x-python",
   "name": "python",
   "nbconvert_exporter": "python",
   "pygments_lexer": "ipython3",
   "version": "3.6.5"
  }
 },
 "nbformat": 4,
 "nbformat_minor": 2
}
